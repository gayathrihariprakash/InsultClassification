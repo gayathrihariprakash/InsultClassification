{
 "cells": [
  {
   "cell_type": "markdown",
   "metadata": {},
   "source": [
    "# Detecting Insults in Social Commentary\n",
    "\n",
    "### Problem Definition:\n",
    "\n",
    "The challenge is to detect if a comment from an online conversation can be considered insulting to another participant in the conversation. The idea is to create a generalizable single-class classifier which could operate in a near real-time mode. In this project I build a system that can detect whether or not any given comment is insulting by building a machine learning system.\n",
    "\n",
    "In addition to just building a classifier this project also test different classifier - **Linear & Non-Linear** and decide which might be the best classifier for the purpose.\n",
    "\n",
    "\n",
    "Ref: https://www.kaggle.com/c/detecting-insults-in-social-commentary\n",
    "\n",
    "Ref: http://scikit-learn.org/stable/tutorial/text_analytics/working_with_text_data.html\n"
   ]
  },
  {
   "cell_type": "code",
   "execution_count": 4,
   "metadata": {},
   "outputs": [],
   "source": [
    "import numpy as np\n",
    "import pandas as pd\n",
    "import sklearn\n",
    "# to split data\n",
    "from sklearn.cross_validation import train_test_split, ShuffleSplit\n",
    "import sklearn.feature_extraction.text as text"
   ]
  },
  {
   "cell_type": "code",
   "execution_count": 5,
   "metadata": {
    "collapsed": true
   },
   "outputs": [],
   "source": [
    "# Support Vector machine\n",
    "from sklearn import svm\n",
    "# Naive Bayes\n",
    "import sklearn.naive_bayes as nb\n",
    "# Logistic Regression\n",
    "from sklearn.linear_model import LogisticRegression\n",
    "# decision tree\n",
    "from sklearn.tree import DecisionTreeClassifier\n",
    "# random forest \n",
    "from sklearn.ensemble import RandomForestClassifier"
   ]
  },
  {
   "cell_type": "markdown",
   "metadata": {},
   "source": [
    "# Methodology"
   ]
  },
  {
   "cell_type": "markdown",
   "metadata": {},
   "source": [
    "## I. Data Ingestion\n",
    "\n",
    "Data for training and testing is obtained from Kaggle. The data set contains 3947 examples, each of which consists of the text of a particular post and its desired label. A label of 1 represents an insulting post, while a label of 0 represents a non-insulting post. \n",
    "\n",
    "For Example, \n",
    "\n",
    "**Text:** “You’re a moron, truth is beyond your reach”, Label: 1\n",
    "\n",
    "**Text:** “I’ll take that temp…I really hate the heat”, Label: 0\n"
   ]
  },
  {
   "cell_type": "markdown",
   "metadata": {},
   "source": [
    "### Loading and preparing the data"
   ]
  },
  {
   "cell_type": "code",
   "execution_count": 6,
   "metadata": {
    "collapsed": true
   },
   "outputs": [],
   "source": [
    "# Open the training file with pandas.\n",
    "df = pd.read_csv(\"data/train.csv\")"
   ]
  },
  {
   "cell_type": "code",
   "execution_count": 7,
   "metadata": {},
   "outputs": [
    {
     "data": {
      "text/html": [
       "<div>\n",
       "<style>\n",
       "    .dataframe thead tr:only-child th {\n",
       "        text-align: right;\n",
       "    }\n",
       "\n",
       "    .dataframe thead th {\n",
       "        text-align: left;\n",
       "    }\n",
       "\n",
       "    .dataframe tbody tr th {\n",
       "        vertical-align: top;\n",
       "    }\n",
       "</style>\n",
       "<table border=\"1\" class=\"dataframe\">\n",
       "  <thead>\n",
       "    <tr style=\"text-align: right;\">\n",
       "      <th></th>\n",
       "      <th>Insult</th>\n",
       "      <th>Date</th>\n",
       "      <th>Comment</th>\n",
       "    </tr>\n",
       "  </thead>\n",
       "  <tbody>\n",
       "    <tr>\n",
       "      <th>0</th>\n",
       "      <td>1</td>\n",
       "      <td>20120618192155Z</td>\n",
       "      <td>\"You fuck your dad.\"</td>\n",
       "    </tr>\n",
       "    <tr>\n",
       "      <th>1</th>\n",
       "      <td>0</td>\n",
       "      <td>20120528192215Z</td>\n",
       "      <td>\"i really don't understand your point.\\xa0 It ...</td>\n",
       "    </tr>\n",
       "    <tr>\n",
       "      <th>2</th>\n",
       "      <td>0</td>\n",
       "      <td>NaN</td>\n",
       "      <td>\"A\\\\xc2\\\\xa0majority of Canadians can and has ...</td>\n",
       "    </tr>\n",
       "    <tr>\n",
       "      <th>3</th>\n",
       "      <td>0</td>\n",
       "      <td>NaN</td>\n",
       "      <td>\"listen if you dont wanna get married to a man...</td>\n",
       "    </tr>\n",
       "    <tr>\n",
       "      <th>4</th>\n",
       "      <td>0</td>\n",
       "      <td>20120619094753Z</td>\n",
       "      <td>\"C\\xe1c b\\u1ea1n xu\\u1ed1ng \\u0111\\u01b0\\u1edd...</td>\n",
       "    </tr>\n",
       "  </tbody>\n",
       "</table>\n",
       "</div>"
      ],
      "text/plain": [
       "   Insult             Date                                            Comment\n",
       "0       1  20120618192155Z                               \"You fuck your dad.\"\n",
       "1       0  20120528192215Z  \"i really don't understand your point.\\xa0 It ...\n",
       "2       0              NaN  \"A\\\\xc2\\\\xa0majority of Canadians can and has ...\n",
       "3       0              NaN  \"listen if you dont wanna get married to a man...\n",
       "4       0  20120619094753Z  \"C\\xe1c b\\u1ea1n xu\\u1ed1ng \\u0111\\u01b0\\u1edd..."
      ]
     },
     "execution_count": 7,
     "metadata": {},
     "output_type": "execute_result"
    }
   ],
   "source": [
    "# Inspect complete dataset\n",
    "df.head(5)"
   ]
  },
  {
   "cell_type": "code",
   "execution_count": 14,
   "metadata": {},
   "outputs": [
    {
     "data": {
      "text/plain": [
       "(3947, 3)"
      ]
     },
     "execution_count": 14,
     "metadata": {},
     "output_type": "execute_result"
    }
   ],
   "source": [
    "# getting the shape of dataframe\n",
    "df.shape"
   ]
  },
  {
   "cell_type": "code",
   "execution_count": 18,
   "metadata": {},
   "outputs": [
    {
     "data": {
      "text/html": [
       "<div>\n",
       "<style>\n",
       "    .dataframe thead tr:only-child th {\n",
       "        text-align: right;\n",
       "    }\n",
       "\n",
       "    .dataframe thead th {\n",
       "        text-align: left;\n",
       "    }\n",
       "\n",
       "    .dataframe tbody tr th {\n",
       "        vertical-align: top;\n",
       "    }\n",
       "</style>\n",
       "<table border=\"1\" class=\"dataframe\">\n",
       "  <thead>\n",
       "    <tr style=\"text-align: right;\">\n",
       "      <th></th>\n",
       "      <th>Comment</th>\n",
       "    </tr>\n",
       "    <tr>\n",
       "      <th>Insult</th>\n",
       "      <th></th>\n",
       "    </tr>\n",
       "  </thead>\n",
       "  <tbody>\n",
       "    <tr>\n",
       "      <th>0</th>\n",
       "      <td>2898</td>\n",
       "    </tr>\n",
       "    <tr>\n",
       "      <th>1</th>\n",
       "      <td>1049</td>\n",
       "    </tr>\n",
       "  </tbody>\n",
       "</table>\n",
       "</div>"
      ],
      "text/plain": [
       "        Comment\n",
       "Insult         \n",
       "0          2898\n",
       "1          1049"
      ]
     },
     "execution_count": 18,
     "metadata": {},
     "output_type": "execute_result"
    }
   ],
   "source": [
    "# Getting the Count of Positive and Negative\n",
    "df[['Comment','Insult']].groupby('Insult').count()"
   ]
  },
  {
   "cell_type": "markdown",
   "metadata": {},
   "source": [
    "In total, **1049** of the examples are labelled as **“insulting”**, while the remaining **2898** examples are labelled as **“not insulting”**."
   ]
  },
  {
   "cell_type": "code",
   "execution_count": 9,
   "metadata": {},
   "outputs": [
    {
     "data": {
      "text/html": [
       "<div>\n",
       "<style>\n",
       "    .dataframe thead tr:only-child th {\n",
       "        text-align: right;\n",
       "    }\n",
       "\n",
       "    .dataframe thead th {\n",
       "        text-align: left;\n",
       "    }\n",
       "\n",
       "    .dataframe tbody tr th {\n",
       "        vertical-align: top;\n",
       "    }\n",
       "</style>\n",
       "<table border=\"1\" class=\"dataframe\">\n",
       "  <thead>\n",
       "    <tr style=\"text-align: right;\">\n",
       "      <th></th>\n",
       "      <th>Insult</th>\n",
       "      <th>Comment</th>\n",
       "    </tr>\n",
       "  </thead>\n",
       "  <tbody>\n",
       "    <tr>\n",
       "      <th>3942</th>\n",
       "      <td>1</td>\n",
       "      <td>\"you are both morons and that is never happening\"</td>\n",
       "    </tr>\n",
       "    <tr>\n",
       "      <th>3943</th>\n",
       "      <td>0</td>\n",
       "      <td>\"Many toolbars include spell check, like Yahoo...</td>\n",
       "    </tr>\n",
       "    <tr>\n",
       "      <th>3944</th>\n",
       "      <td>0</td>\n",
       "      <td>\"@LambeauOrWrigley\\xa0\\xa0@K.Moss\\xa0\\nSioux F...</td>\n",
       "    </tr>\n",
       "    <tr>\n",
       "      <th>3945</th>\n",
       "      <td>0</td>\n",
       "      <td>\"How about Felix? He is sure turning into one ...</td>\n",
       "    </tr>\n",
       "    <tr>\n",
       "      <th>3946</th>\n",
       "      <td>0</td>\n",
       "      <td>\"You're all upset, defending this hipster band...</td>\n",
       "    </tr>\n",
       "  </tbody>\n",
       "</table>\n",
       "</div>"
      ],
      "text/plain": [
       "      Insult                                            Comment\n",
       "3942       1  \"you are both morons and that is never happening\"\n",
       "3943       0  \"Many toolbars include spell check, like Yahoo...\n",
       "3944       0  \"@LambeauOrWrigley\\xa0\\xa0@K.Moss\\xa0\\nSioux F...\n",
       "3945       0  \"How about Felix? He is sure turning into one ...\n",
       "3946       0  \"You're all upset, defending this hipster band..."
      ]
     },
     "execution_count": 9,
     "metadata": {},
     "output_type": "execute_result"
    }
   ],
   "source": [
    "# Inspect data\n",
    "df[['Insult', 'Comment']].tail(5)"
   ]
  },
  {
   "cell_type": "markdown",
   "metadata": {},
   "source": [
    "## II. Data Wrangling\n",
    "\n",
    "Once the data has been loaded, data wrangling pipeline is being created to clean data and remove garbage characters. \n",
    "\n",
    "1. Text Cleansing.\n",
    "2. Tokenization\n",
    "3. Stemming\n",
    "4. Lemmatization\n",
    "5. Stop words removal\n",
    "6. Rare words removal"
   ]
  },
  {
   "cell_type": "code",
   "execution_count": 20,
   "metadata": {
    "collapsed": true
   },
   "outputs": [],
   "source": [
    "# splitting Labels and comments\n",
    "label, comments = df['Insult'],df['Comment']"
   ]
  },
  {
   "cell_type": "code",
   "execution_count": 21,
   "metadata": {},
   "outputs": [
    {
     "data": {
      "text/plain": [
       "(pandas.core.series.Series, pandas.core.series.Series)"
      ]
     },
     "execution_count": 21,
     "metadata": {},
     "output_type": "execute_result"
    }
   ],
   "source": [
    "# checking label, comments\n",
    "type(label), type(comments)"
   ]
  },
  {
   "cell_type": "markdown",
   "metadata": {},
   "source": [
    "####  Text Cleaning: To Lower Case"
   ]
  },
  {
   "cell_type": "code",
   "execution_count": 22,
   "metadata": {},
   "outputs": [],
   "source": [
    "# converting data to lowercase\n",
    "comments=comments.str.lower()"
   ]
  },
  {
   "cell_type": "code",
   "execution_count": 23,
   "metadata": {},
   "outputs": [
    {
     "data": {
      "text/plain": [
       "'\"@sdl ok, but i would hope they\\'d sign him to a one-year contract to start with. give him the chance to be reliable and productive, but give themselves the out if all his time off has hurt his playing skills or if he falls back into old habits.\"'"
      ]
     },
     "execution_count": 23,
     "metadata": {},
     "output_type": "execute_result"
    }
   ],
   "source": [
    "comments.iloc[5]"
   ]
  },
  {
   "cell_type": "code",
   "execution_count": 24,
   "metadata": {
    "collapsed": true
   },
   "outputs": [],
   "source": [
    "from nltk import sent_tokenize\n",
    "import re\n",
    "from re import sub\n",
    "import string\n",
    "from nltk.stem.wordnet import WordNetLemmatizer\n",
    "from nltk.stem.snowball import SnowballStemmer"
   ]
  },
  {
   "cell_type": "markdown",
   "metadata": {},
   "source": [
    "#### Text Cleaning: Removing special characters"
   ]
  },
  {
   "cell_type": "code",
   "execution_count": 25,
   "metadata": {
    "collapsed": true
   },
   "outputs": [],
   "source": [
    "def remove_special_char(x):\n",
    "    # this will replace all punctuations with spaces\n",
    "    punc = string.punctuation.replace(\"-\", \"\")\n",
    "    punc = punc.replace(\"'\", \"\")\n",
    "    pat= r\"[{}]\".format(punc)\n",
    "    x=re.sub(pat, \" \", x)\n",
    "    \n",
    "    # this will replace all digits with None\n",
    "    x=re.sub(pattern=r\"\\d\", repl=r\" \", string=x)\n",
    "    \n",
    "    # this will strip extra white spaces\n",
    "    return \" \".join( i for i in stemming(x))"
   ]
  },
  {
   "cell_type": "markdown",
   "metadata": {},
   "source": [
    "#### Stemming and Lemmatization"
   ]
  },
  {
   "cell_type": "code",
   "execution_count": 26,
   "metadata": {
    "collapsed": true
   },
   "outputs": [],
   "source": [
    "def stemming(x):\n",
    "    #st = LancasterStemmer()\n",
    "    st = WordNetLemmatizer()\n",
    "    words=x.strip().split()\n",
    "    st3=SnowballStemmer(\"english\")\n",
    "    return [st3.stem(st.lemmatize(x)) for x in words]"
   ]
  },
  {
   "cell_type": "code",
   "execution_count": 27,
   "metadata": {},
   "outputs": [],
   "source": [
    "#making a copy of transformed \n",
    "comments_tran = comments.apply(remove_special_char)"
   ]
  },
  {
   "cell_type": "code",
   "execution_count": 28,
   "metadata": {},
   "outputs": [
    {
     "data": {
      "text/plain": [
       "('\"i really don\\'t understand your point.\\\\xa0 it seems that you are mixing apples and oranges.\"',\n",
       " \"i realli don't understand your point \\\\xa it seem that you are mix appl and orang\")"
      ]
     },
     "execution_count": 28,
     "metadata": {},
     "output_type": "execute_result"
    }
   ],
   "source": [
    "# checking the change\n",
    "comments.iloc[1], comments_tran.iloc[1]"
   ]
  },
  {
   "cell_type": "markdown",
   "metadata": {},
   "source": [
    "#### Removing Stopwords"
   ]
  },
  {
   "cell_type": "code",
   "execution_count": 29,
   "metadata": {},
   "outputs": [
    {
     "data": {
      "text/plain": [
       "(set, 153)"
      ]
     },
     "execution_count": 29,
     "metadata": {},
     "output_type": "execute_result"
    }
   ],
   "source": [
    "import nltk\n",
    "from nltk.corpus import stopwords\n",
    "# getting stopwords for classifier\n",
    "stopWords = set(stopwords.words('english'))\n",
    "type(stopWords), len(stopWords)"
   ]
  },
  {
   "cell_type": "markdown",
   "metadata": {},
   "source": [
    "#### Tokenization"
   ]
  },
  {
   "cell_type": "code",
   "execution_count": 30,
   "metadata": {},
   "outputs": [
    {
     "name": "stdout",
     "output_type": "stream",
     "text": [
      "(3947, 11775)\n"
     ]
    }
   ],
   "source": [
    "tf = text.TfidfVectorizer(stop_words=stopWords, ngram_range=(1, 1))\n",
    "X = tf.fit_transform(comments_tran)\n",
    "print(X.shape)"
   ]
  },
  {
   "cell_type": "code",
   "execution_count": 19,
   "metadata": {},
   "outputs": [],
   "source": [
    "# this is experimental tokenizer with ngram features\n",
    "# tf = text.TfidfVectorizer(stop_words=stopWords,ngram_range=(1, 5))"
   ]
  },
  {
   "cell_type": "code",
   "execution_count": 31,
   "metadata": {},
   "outputs": [
    {
     "name": "stdout",
     "output_type": "stream",
     "text": [
      "Each sample has ~0.13% non-zero features.\n"
     ]
    }
   ],
   "source": [
    "# checking the sparsity of matrix\n",
    "print(\"Each sample has ~{0:.2%} non-zero features.\".format(X.nnz / float(X.shape[0] * X.shape[1])))"
   ]
  },
  {
   "cell_type": "code",
   "execution_count": 32,
   "metadata": {},
   "outputs": [
    {
     "data": {
      "text/plain": [
       "11775"
      ]
     },
     "execution_count": 32,
     "metadata": {},
     "output_type": "execute_result"
    }
   ],
   "source": [
    "# Storing words in vocab list\n",
    "vocab=list((tf.vocabulary_).keys())\n",
    "len(vocab)"
   ]
  },
  {
   "cell_type": "code",
   "execution_count": 33,
   "metadata": {},
   "outputs": [
    {
     "name": "stdout",
     "output_type": "stream",
     "text": [
      "['aaaaaaaaa', 'aaaah', 'aaahhh', 'aac', 'aamir', 'aap', 'aarongmy', 'ab', 'abacha', 'abandon', 'abc', 'abe', 'abel', 'aberdeen', 'abet', 'abid', 'abigail', 'abil', 'ability', 'abit', 'abl', 'abnorm', 'abolish', 'abolit', 'abomin', 'abort', 'abortifaci', 'abortion', 'abov', 'abraham', 'abroad', 'abrupt', 'abscam', 'absenc', 'absolut', 'absolutejok', 'absolutely', 'abstain', 'abstractfirework', 'absurd', 'absurdum', 'absurt', 'aburrido', 'abus', 'abuse', 'abuses', 'abxxv', 'abysm', 'ac', 'academ']\n"
     ]
    }
   ],
   "source": [
    "vocab.sort()\n",
    "print(vocab[:50])"
   ]
  },
  {
   "cell_type": "markdown",
   "metadata": {},
   "source": [
    "# III. Building Model\n",
    "\n",
    "I started out by trying linear classification models **Naïve Bayes, SVMs, and Logistic Regression** for building the classifier as they are very common and easy models for classification. \n",
    "\n",
    "Following this I built Non-Linear classifiers  like **Random Forest Classifier, Decision Tree Classifier**. Evnetually, I compare how these classifiers perform. \n",
    "\n",
    "I have implemented each of these classifiers with only unigrams features, followed by basic preprocessing (such as lowercasing all letters, removing punctuation and stemming)."
   ]
  },
  {
   "cell_type": "markdown",
   "metadata": {},
   "source": [
    "#### Preparing Data - Train and Validation"
   ]
  },
  {
   "cell_type": "code",
   "execution_count": 34,
   "metadata": {},
   "outputs": [],
   "source": [
    "(X_train, X_val,label_train, label_val) = cv.train_test_split(X, label, test_size=.2)"
   ]
  },
  {
   "cell_type": "code",
   "execution_count": 35,
   "metadata": {},
   "outputs": [
    {
     "data": {
      "text/plain": [
       "((3157, 11775), (790, 11775))"
      ]
     },
     "execution_count": 35,
     "metadata": {},
     "output_type": "execute_result"
    }
   ],
   "source": [
    "# investigating the shape of data\n",
    "X_train.shape, X_val.shape"
   ]
  },
  {
   "cell_type": "markdown",
   "metadata": {},
   "source": [
    "## Linear Classification Models"
   ]
  },
  {
   "cell_type": "markdown",
   "metadata": {},
   "source": [
    "### 1. Logistic Regression (LR)\n",
    "\n",
    "ref: http://scikit-learn.org/stable/modules/generated/sklearn.linear_model.LogisticRegression.html"
   ]
  },
  {
   "cell_type": "code",
   "execution_count": 36,
   "metadata": {
    "collapsed": true
   },
   "outputs": [],
   "source": [
    "def model_LR():\n",
    "    # creating classifier\n",
    "    clf = LogisticRegression(tol=1e-8, penalty='l2', C=2)\n",
    "    # training classifier\n",
    "    clf.fit(X_train, label_train)\n",
    "    # model type\n",
    "    print(\"Model: \",type(clf))\n",
    "    # Predicting probabilities\n",
    "    p = clf.predict_proba(X_val)\n",
    "    return (clf.predict(X_val),p)"
   ]
  },
  {
   "cell_type": "markdown",
   "metadata": {},
   "source": [
    "### 2. Support Vector Machine (SVM)\n",
    "\n",
    "ref: http://scikit-learn.org/stable/modules/generated/sklearn.svm.LinearSVC.html#sklearn.svm.LinearSVC"
   ]
  },
  {
   "cell_type": "code",
   "execution_count": 142,
   "metadata": {},
   "outputs": [],
   "source": [
    "def model_SVM():\n",
    "    # creating classifier\n",
    "    clf = svm.LinearSVC(penalty='l2', loss='squared_hinge',tol=1e-8)\n",
    "    # training classifier\n",
    "    clf.fit(X_train, label_train)\n",
    "    # model type\n",
    "    print(\"Model: \",type(clf))\n",
    "    return clf.predict(X_val)"
   ]
  },
  {
   "cell_type": "markdown",
   "metadata": {},
   "source": [
    "### 3. Naive Bayes (NB)\n",
    "\n",
    "ref: http://scikit-learn.org/stable/modules/naive_bayes.html#naive-bayes"
   ]
  },
  {
   "cell_type": "code",
   "execution_count": 38,
   "metadata": {
    "collapsed": true
   },
   "outputs": [],
   "source": [
    "# Bernoulli Naive Baiyes\n",
    "def model_BernoulliNB():\n",
    "    # creating classifier\n",
    "    clf = nb.BernoulliNB(alpha=1.0, binarize=0.0)\n",
    "    # training classifier\n",
    "    clf.fit(X_train, label_train)\n",
    "    # model type\n",
    "    print(\"Model: \",type(clf))\n",
    "    # Predicting probabilities\n",
    "    p = clf.predict_proba(X_val)\n",
    "    return (clf.predict(X_val),p)"
   ]
  },
  {
   "cell_type": "markdown",
   "metadata": {},
   "source": [
    "## Non-Linear Classification Models\n"
   ]
  },
  {
   "cell_type": "markdown",
   "metadata": {},
   "source": [
    "### 1. Random Forest Classifier"
   ]
  },
  {
   "cell_type": "code",
   "execution_count": 39,
   "metadata": {},
   "outputs": [],
   "source": [
    "# Random Forest Classifier\n",
    "def model_RF():\n",
    "    # creating classifier\n",
    "    clf = RandomForestClassifier(n_estimators=100)\n",
    "    # training classifier\n",
    "    clf.fit(X_train, label_train)\n",
    "    # model type\n",
    "    print(\"Model: \",type(clf))\n",
    "    # Predicting probabilities\n",
    "    p = clf.predict_proba(X_val)\n",
    "    return (clf.predict(X_val),p)"
   ]
  },
  {
   "cell_type": "markdown",
   "metadata": {},
   "source": [
    "### 2. Decision Tree Classifier (DT)"
   ]
  },
  {
   "cell_type": "code",
   "execution_count": 41,
   "metadata": {
    "collapsed": true
   },
   "outputs": [],
   "source": [
    "def model_DT():\n",
    "    # creating classifier\n",
    "    clf = DecisionTreeClassifier(max_depth=100)\n",
    "    # training classifier\n",
    "    clf.fit(X_train, label_train)\n",
    "    # model type\n",
    "    print(\"Model: \",type(clf))\n",
    "    # Predicting probabilities\n",
    "    p = clf.predict_proba(X_val)\n",
    "    return (clf.predict(X_val),p)"
   ]
  },
  {
   "cell_type": "markdown",
   "metadata": {},
   "source": [
    "# IV. Model Evaluation\n",
    "\n",
    "The primary evaluation metrics that I have used on my system training are **accuracy and 10-fold cross validation**. I used the training accuracy to determine how well the model is fitting in training data and testing with validation data. The cross validation accuracy was more significant because it was more generalized."
   ]
  },
  {
   "cell_type": "code",
   "execution_count": 42,
   "metadata": {
    "collapsed": true
   },
   "outputs": [],
   "source": [
    "# ROC and AUC score\n",
    "from sklearn.metrics import roc_auc_score as auc_score\n",
    "# Confusion Matrix\n",
    "from sklearn.metrics import confusion_matrix"
   ]
  },
  {
   "cell_type": "code",
   "execution_count": 66,
   "metadata": {},
   "outputs": [],
   "source": [
    "def model_evaluation(model,label_test):\n",
    "    #accuracy=np.mean(model == label_test)\n",
    "    #print(\"%.4f\"%np.mean(model == label_test))\n",
    "    # confusion matrix:\n",
    "    cm = confusion_matrix(label_test, model, labels=None, sample_weight=None)\n",
    "    tp, fn, fp, tn = cm[0][0], cm[0][1], cm[1][0], cm[1][1]\n",
    "    precision= float(tp)/(tp+fp)\n",
    "    recall =  float(tp)/(tp+tn)\n",
    "    accuracy = np.mean(model == label_test)\n",
    "    print_results (precision, recall, accuracy)\n",
    "    return accuracy\n",
    "    \n",
    "\n",
    "def print_results (precision, recall, accuracy):\n",
    "    banner = \"Here is the classification report\"\n",
    "    print ('\\n',banner)\n",
    "    print ('=' * len(banner))\n",
    "    print ('{0:10s} {1:.1f}'.format('Precision',precision*100))\n",
    "    print ('{0:10s} {1:.1f}'.format('Recall',recall*100))\n",
    "    print ('{0:10s} {1:.1f}'.format('Accuracy',accuracy*100))\n",
    "    \n",
    "    \n",
    "    #print(\"*****PRECISION****\")\n",
    "    #print(\"%.4f\"%(tp/(tp+fp)))\n",
    "    #print(\"*****RECALL****\")\n",
    "    #print(\"%.4f\"%(tp/(tp+tn)))\n",
    "    #return accuracy"
   ]
  },
  {
   "cell_type": "markdown",
   "metadata": {},
   "source": [
    "## Model Accuracy, Precision, Recall"
   ]
  },
  {
   "cell_type": "markdown",
   "metadata": {},
   "source": [
    "#### Logistic Regression"
   ]
  },
  {
   "cell_type": "code",
   "execution_count": 143,
   "metadata": {
    "scrolled": true
   },
   "outputs": [
    {
     "name": "stdout",
     "output_type": "stream",
     "text": [
      "Model:  <class 'sklearn.linear_model.logistic.LogisticRegression'>\n",
      "\n",
      " Here is the classification report\n",
      "=================================\n",
      "Precision  73.4\n",
      "Recall     98.1\n",
      "Accuracy   71.9\n",
      "AUC Score  52.1\n"
     ]
    }
   ],
   "source": [
    "# model prediction\n",
    "clf_LR, p = model_LR()\n",
    "# model evaluation\n",
    "acc_LR = model_evaluation(clf_LR, label_val)\n",
    "\n",
    "print ('{0:10s} {1:.1f}'.format('AUC Score',auc_score(label_val, p[:,1])*100))"
   ]
  },
  {
   "cell_type": "markdown",
   "metadata": {},
   "source": [
    "#### Support Vector Machine"
   ]
  },
  {
   "cell_type": "code",
   "execution_count": 144,
   "metadata": {},
   "outputs": [
    {
     "name": "stdout",
     "output_type": "stream",
     "text": [
      "Model:  <class 'sklearn.svm.classes.LinearSVC'>\n",
      "\n",
      " Here is the classification report\n",
      "=================================\n",
      "Precision  73.0\n",
      "Recall     91.9\n",
      "Accuracy   64.2\n"
     ]
    }
   ],
   "source": [
    "# model prediction\n",
    "clf_SVM = model_SVM()\n",
    "# model evaluation\n",
    "acc_SVM = model_evaluation(clf_SVM, label_val)"
   ]
  },
  {
   "cell_type": "markdown",
   "metadata": {},
   "source": [
    "#### Naive Bayes"
   ]
  },
  {
   "cell_type": "code",
   "execution_count": 72,
   "metadata": {},
   "outputs": [
    {
     "name": "stdout",
     "output_type": "stream",
     "text": [
      "Model:  <class 'sklearn.naive_bayes.BernoulliNB'>\n",
      "\n",
      " Here is the classification report\n",
      "=================================\n",
      "Precision  72.0\n",
      "Recall     98.7\n",
      "Accuracy   67.8\n",
      "AUC Score  41.3\n"
     ]
    }
   ],
   "source": [
    "# model prediction\n",
    "clf_NB,p=model_BernoulliNB()\n",
    "# model evaluation\n",
    "acc_NB = model_evaluation(clf_NB, label_val)\n",
    "\n",
    "print ('{0:10s} {1:.1f}'.format('AUC Score',auc_score(label_val, p[:,1])*100))"
   ]
  },
  {
   "cell_type": "markdown",
   "metadata": {},
   "source": [
    "#### Random Forest"
   ]
  },
  {
   "cell_type": "code",
   "execution_count": 70,
   "metadata": {},
   "outputs": [
    {
     "name": "stdout",
     "output_type": "stream",
     "text": [
      "Model:  <class 'sklearn.ensemble.forest.RandomForestClassifier'>\n",
      "\n",
      " Here is the classification report\n",
      "=================================\n",
      "Precision  73.6\n",
      "Recall     90.5\n",
      "Accuracy   64.2\n",
      "AUC Score  46.6\n"
     ]
    }
   ],
   "source": [
    "# model prediction\n",
    "clf_RF,p=model_RF()\n",
    "# model evaluation\n",
    "acc_RF = model_evaluation(clf_RF, label_val)\n",
    "\n",
    "print ('{0:10s} {1:.1f}'.format('AUC Score',auc_score(label_val, p[:,1])*100))"
   ]
  },
  {
   "cell_type": "markdown",
   "metadata": {},
   "source": [
    "#### Decision Tree"
   ]
  },
  {
   "cell_type": "code",
   "execution_count": 71,
   "metadata": {},
   "outputs": [
    {
     "name": "stdout",
     "output_type": "stream",
     "text": [
      "Model:  <class 'sklearn.tree.tree.DecisionTreeClassifier'>\n",
      "\n",
      " Here is the classification report\n",
      "=================================\n",
      "Precision  73.5\n",
      "Recall     94.4\n",
      "Accuracy   68.1\n",
      "AUC Score  51.4\n"
     ]
    }
   ],
   "source": [
    "# model prediction\n",
    "clf_DT,p=model_DT()\n",
    "# model evaluation\n",
    "acc_DT = model_evaluation(clf_DT, label_val)\n",
    "\n",
    "print ('{0:10s} {1:.1f}'.format('AUC Score',auc_score(label_val, p[:,1])*100))"
   ]
  },
  {
   "cell_type": "code",
   "execution_count": 137,
   "metadata": {},
   "outputs": [],
   "source": [
    "# Accuracy for all Models\n",
    "accuracy_normal=[acc_LR, acc_SVM, acc_NB, acc_RF, acc_DT]\n",
    "accuracy_normal=[('{0:2f}'.format(i*100)) for i in accuracy_normal]"
   ]
  },
  {
   "cell_type": "code",
   "execution_count": 138,
   "metadata": {},
   "outputs": [
    {
     "data": {
      "text/plain": [
       "['71.139241', '63.544304', '67.848101', '64.177215', '68.101266']"
      ]
     },
     "execution_count": 138,
     "metadata": {},
     "output_type": "execute_result"
    }
   ],
   "source": [
    "accuracy_normal"
   ]
  },
  {
   "cell_type": "markdown",
   "metadata": {},
   "source": [
    "## Accuracy : 10-Fold Cross Validation"
   ]
  },
  {
   "cell_type": "code",
   "execution_count": 52,
   "metadata": {
    "collapsed": true
   },
   "outputs": [],
   "source": [
    "# Logistic Regression\n",
    "clf1 = LogisticRegression(tol=1e-8, penalty='l2', C=2)\n",
    "# Support Vector Machines\n",
    "clf2 = svm.LinearSVC(penalty='l2', loss='squared_hinge')\n",
    "# Naive Bayes\n",
    "clf3 = nb.BernoulliNB(alpha=1.0, binarize=0.0)\n",
    "# Random Forest\n",
    "clf4 = RandomForestClassifier(n_estimators=100)\n",
    "# Decision Tree\n",
    "clf5 = DecisionTreeClassifier(max_depth=100)\n",
    "\n",
    "models=[clf1, clf2, clf3, clf4, clf5]"
   ]
  },
  {
   "cell_type": "code",
   "execution_count": 90,
   "metadata": {},
   "outputs": [
    {
     "name": "stdout",
     "output_type": "stream",
     "text": [
      "Accuracy   82.1\n",
      "Accuracy   81.9\n",
      "Accuracy   74.6\n",
      "Accuracy   81.7\n",
      "Accuracy   78.3\n",
      "Normal Accuracy\n",
      "================\n",
      "['71.139241', '63.544304', '67.848101', '64.177215', '68.101266', '68.101266']\n",
      "Accuracy post CV\n",
      "================\n",
      "['82.1', '81.9', '74.6', '81.7', '78.3']\n"
     ]
    }
   ],
   "source": [
    "n_Folds = 10\n",
    "# Accuracy after cross validation:\n",
    "accuracy_cv=[]\n",
    "for clf in models:\n",
    "    accuracy_common=0\n",
    "    for test_run in range(n_Folds):\n",
    "        (X_train, X_test, y_train, y_test) = cv.train_test_split(X, label, test_size=.2)\n",
    "        # call classifier\n",
    "        clf.fit(X_train, y_train)\n",
    "        model=clf.predict(X_test)\n",
    "        # compare result\n",
    "        accuracy=np.mean(model == y_test)\n",
    "        # append to common\n",
    "        accuracy_common += accuracy\n",
    "        # final score\n",
    "    print ('{0:10s} {1:.1f}'.format('Accuracy',float(accuracy_common)/10*100))\n",
    "    accuracy_cv.append('{0:.1f}'.format(float(accuracy_common)/10*100))\n",
    "    \n",
    "print(\"Normal Accuracy\")\n",
    "print(\"================\")\n",
    "print(accuracy_normal)\n",
    "print(\"Accuracy post CV\")\n",
    "print(\"================\")\n",
    "print(accuracy_cv)"
   ]
  },
  {
   "cell_type": "markdown",
   "metadata": {},
   "source": [
    "# V. Results\n",
    "\n",
    "With all of the above features and techniques implemented, a cross-validation accuracy of 82.8% was achieved for **Support Vector Machine** Classifier. This was followed by **Random Forest Classifier and Logistic Regression** Respectively.\n",
    "\n",
    "Following diagram visually represent the results gained after Cross Validation."
   ]
  },
  {
   "cell_type": "code",
   "execution_count": 128,
   "metadata": {},
   "outputs": [],
   "source": [
    "import seaborn as sns\n",
    "import warnings\n",
    "import matplotlib.pyplot as plt; plt.rcdefaults()\n",
    "%matplotlib inline\n",
    "\n",
    "# set plot size\n",
    "fig_size=[0,0]\n",
    "fig_size[0] = 7\n",
    "fig_size[1] = 7\n",
    "plt.rcParams[\"figure.figsize\"] = fig_size\n",
    "\n",
    "# setting style\n",
    "sns.set_style(\"whitegrid\")\n",
    "warnings.filterwarnings('ignore')"
   ]
  },
  {
   "cell_type": "markdown",
   "metadata": {},
   "source": [
    "### Model Evaluation: Basic Accuracy"
   ]
  },
  {
   "cell_type": "code",
   "execution_count": 139,
   "metadata": {},
   "outputs": [
    {
     "data": {
      "text/plain": [
       "<matplotlib.text.Text at 0x1211ee358>"
      ]
     },
     "execution_count": 139,
     "metadata": {},
     "output_type": "execute_result"
    },
    {
     "data": {
      "image/png": "[encoded data removed]",
      "text/plain": [
       "<matplotlib.figure.Figure at 0x12119dd30>"
      ]
     },
     "metadata": {},
     "output_type": "display_data"
    }
   ],
   "source": [
    "linear_models = ('Logistic Regression', 'SVM', 'Naive Bayes', 'Random Forest', 'Decision Tree')\n",
    "y_pos = np.arange(len(linear_models)) \n",
    "plt.bar(y_pos, accuracy_normal, align='center', alpha=0.5, color='green')\n",
    "plt.xticks(y_pos, linear_models)\n",
    "plt.ylabel('Accuracy')\n",
    "plt.title('Insult Classification Models')"
   ]
  },
  {
   "cell_type": "code",
   "execution_count": 141,
   "metadata": {
    "scrolled": true
   },
   "outputs": [
    {
     "data": {
      "text/plain": [
       "<matplotlib.text.Text at 0x12149f588>"
      ]
     },
     "execution_count": 141,
     "metadata": {},
     "output_type": "execute_result"
    },
    {
     "data": {
      "image/png": "[encoded data removed]",
      "text/plain": [
       "<matplotlib.figure.Figure at 0x121278048>"
      ]
     },
     "metadata": {},
     "output_type": "display_data"
    }
   ],
   "source": [
    "linear_models = ('Logistic Regression', 'SVM', 'Naive Bayes', 'Random Forest', 'Decision Tree')\n",
    "y_pos = np.arange(len(linear_models)) \n",
    "plt.bar(y_pos, accuracy_cv, align='center', alpha=0.5, color='m')\n",
    "plt.xticks(y_pos, linear_models)\n",
    "plt.ylabel('Accuracy')\n",
    "plt.title('Insult Classification Models')"
   ]
  },
  {
   "cell_type": "code",
   "execution_count": null,
   "metadata": {
    "collapsed": true
   },
   "outputs": [],
   "source": []
  }
 ],
 "metadata": {
  "kernelspec": {
   "display_name": "Python 3",
   "language": "python",
   "name": "python3"
  },
  "language_info": {
   "codemirror_mode": {
    "name": "ipython",
    "version": 3
   },
   "file_extension": ".py",
   "mimetype": "text/x-python",
   "name": "python",
   "nbconvert_exporter": "python",
   "pygments_lexer": "ipython3",
   "version": "3.6.1"
  }
 },
 "nbformat": 4,
 "nbformat_minor": 2
}
