{
 "cells": [
  {
   "cell_type": "markdown",
   "metadata": {},
   "source": [
    "# Detecting Insults in Social Commentary"
   ]
  },
  {
   "cell_type": "markdown",
   "metadata": {},
   "source": [
    "### Problem Definition:\n",
    "__________________\n",
    "The challenge is to detect if a comment from an online conversation can be considered insulting to another participant in the conversation. The idea is to create a generalizable single-class classifier which could operate in a near real-time mode. In this project I build a system that can detect whether or not any given comment is insulting by building a machine learning system.\n",
    "\n",
    "In addition to just building a classifier this project also test different classifier - **Linear & Non-Linear** and decide which might be the best classifier for the purpose.\n",
    "\n",
    "\n",
    "Ref: https://www.kaggle.com/c/detecting-insults-in-social-commentary\n",
    "\n",
    "Ref: http://scikit-learn.org/stable/tutorial/text_analytics/working_with_text_data.html"
   ]
  },
  {
   "cell_type": "code",
   "execution_count": 104,
   "metadata": {},
   "outputs": [],
   "source": [
    "import numpy as np\n",
    "import pandas as pd\n",
    "import sklearn\n",
    "# to split data\n",
    "import sklearn.feature_extraction.text as text\n",
    "from sklearn.model_selection import train_test_split as cv"
   ]
  },
  {
   "cell_type": "code",
   "execution_count": 2,
   "metadata": {
    "collapsed": true
   },
   "outputs": [],
   "source": [
    "# Support Vector machine\n",
    "from sklearn import svm\n",
    "# Naive Bayes\n",
    "import sklearn.naive_bayes as nb\n",
    "# Logistic Regression\n",
    "from sklearn.linear_model import LogisticRegression\n",
    "# decision tree\n",
    "from sklearn.tree import DecisionTreeClassifier\n",
    "# random forest \n",
    "from sklearn.ensemble import RandomForestClassifier"
   ]
  },
  {
   "cell_type": "markdown",
   "metadata": {},
   "source": [
    "## I. Data Ingestion\n",
    "In this stage data for training and testing is obtained from Kaggle. Training dataset contains **3947** examples, each of which consists of the text of a particular post and its desired label. Test dataset contains **2235** examples. Data is also inspected for shape and features.\n",
    "\n",
    "A label of 1 represents an insulting post, while a label of 0 represents a non-insulting post. For Example, \n",
    "\n",
    "**Text:** “You’re a moron, truth is beyond your reach”, **Label: 1**\n",
    "\n",
    "**Text:** “I’ll take that temp…I really hate the heat”, **Label: 0**"
   ]
  },
  {
   "cell_type": "markdown",
   "metadata": {},
   "source": [
    "#### Loading and preparing the data"
   ]
  },
  {
   "cell_type": "code",
   "execution_count": 3,
   "metadata": {
    "collapsed": true
   },
   "outputs": [],
   "source": [
    "# Open the training file with pandas.\n",
    "df = pd.read_csv(\"data/train.csv\")\n",
    "# Open the test file with pandas.\n",
    "df_test = pd.read_csv(\"data/test.csv\")"
   ]
  },
  {
   "cell_type": "code",
   "execution_count": 4,
   "metadata": {},
   "outputs": [
    {
     "data": {
      "text/html": [
       "<div>\n",
       "<style>\n",
       "    .dataframe thead tr:only-child th {\n",
       "        text-align: right;\n",
       "    }\n",
       "\n",
       "    .dataframe thead th {\n",
       "        text-align: left;\n",
       "    }\n",
       "\n",
       "    .dataframe tbody tr th {\n",
       "        vertical-align: top;\n",
       "    }\n",
       "</style>\n",
       "<table border=\"1\" class=\"dataframe\">\n",
       "  <thead>\n",
       "    <tr style=\"text-align: right;\">\n",
       "      <th></th>\n",
       "      <th>Insult</th>\n",
       "      <th>Date</th>\n",
       "      <th>Comment</th>\n",
       "    </tr>\n",
       "  </thead>\n",
       "  <tbody>\n",
       "    <tr>\n",
       "      <th>0</th>\n",
       "      <td>1</td>\n",
       "      <td>20120618192155Z</td>\n",
       "      <td>\"You fuck your dad.\"</td>\n",
       "    </tr>\n",
       "    <tr>\n",
       "      <th>1</th>\n",
       "      <td>0</td>\n",
       "      <td>20120528192215Z</td>\n",
       "      <td>\"i really don't understand your point.\\xa0 It ...</td>\n",
       "    </tr>\n",
       "    <tr>\n",
       "      <th>2</th>\n",
       "      <td>0</td>\n",
       "      <td>NaN</td>\n",
       "      <td>\"A\\\\xc2\\\\xa0majority of Canadians can and has ...</td>\n",
       "    </tr>\n",
       "    <tr>\n",
       "      <th>3</th>\n",
       "      <td>0</td>\n",
       "      <td>NaN</td>\n",
       "      <td>\"listen if you dont wanna get married to a man...</td>\n",
       "    </tr>\n",
       "    <tr>\n",
       "      <th>4</th>\n",
       "      <td>0</td>\n",
       "      <td>20120619094753Z</td>\n",
       "      <td>\"C\\xe1c b\\u1ea1n xu\\u1ed1ng \\u0111\\u01b0\\u1edd...</td>\n",
       "    </tr>\n",
       "  </tbody>\n",
       "</table>\n",
       "</div>"
      ],
      "text/plain": [
       "   Insult             Date                                            Comment\n",
       "0       1  20120618192155Z                               \"You fuck your dad.\"\n",
       "1       0  20120528192215Z  \"i really don't understand your point.\\xa0 It ...\n",
       "2       0              NaN  \"A\\\\xc2\\\\xa0majority of Canadians can and has ...\n",
       "3       0              NaN  \"listen if you dont wanna get married to a man...\n",
       "4       0  20120619094753Z  \"C\\xe1c b\\u1ea1n xu\\u1ed1ng \\u0111\\u01b0\\u1edd..."
      ]
     },
     "execution_count": 4,
     "metadata": {},
     "output_type": "execute_result"
    }
   ],
   "source": [
    "# Inspect complete dataset\n",
    "df.head(5)"
   ]
  },
  {
   "cell_type": "code",
   "execution_count": 5,
   "metadata": {},
   "outputs": [
    {
     "data": {
      "text/html": [
       "<div>\n",
       "<style>\n",
       "    .dataframe thead tr:only-child th {\n",
       "        text-align: right;\n",
       "    }\n",
       "\n",
       "    .dataframe thead th {\n",
       "        text-align: left;\n",
       "    }\n",
       "\n",
       "    .dataframe tbody tr th {\n",
       "        vertical-align: top;\n",
       "    }\n",
       "</style>\n",
       "<table border=\"1\" class=\"dataframe\">\n",
       "  <thead>\n",
       "    <tr style=\"text-align: right;\">\n",
       "      <th></th>\n",
       "      <th>id</th>\n",
       "      <th>Date</th>\n",
       "      <th>Comment</th>\n",
       "    </tr>\n",
       "  </thead>\n",
       "  <tbody>\n",
       "    <tr>\n",
       "      <th>0</th>\n",
       "      <td>1</td>\n",
       "      <td>20120603163526Z</td>\n",
       "      <td>\"like this if you are a tribe fan\"</td>\n",
       "    </tr>\n",
       "    <tr>\n",
       "      <th>1</th>\n",
       "      <td>2</td>\n",
       "      <td>20120531215447Z</td>\n",
       "      <td>\"you're idiot.......................\"</td>\n",
       "    </tr>\n",
       "    <tr>\n",
       "      <th>2</th>\n",
       "      <td>3</td>\n",
       "      <td>20120823164228Z</td>\n",
       "      <td>\"I am a woman Babs, and the only \"war on women...</td>\n",
       "    </tr>\n",
       "    <tr>\n",
       "      <th>3</th>\n",
       "      <td>4</td>\n",
       "      <td>20120826010752Z</td>\n",
       "      <td>\"WOW &amp; YOU BENEFITTED SO MANY WINS THIS YEAR F...</td>\n",
       "    </tr>\n",
       "    <tr>\n",
       "      <th>4</th>\n",
       "      <td>5</td>\n",
       "      <td>20120602223825Z</td>\n",
       "      <td>\"haha green me red you now loser whos winning ...</td>\n",
       "    </tr>\n",
       "  </tbody>\n",
       "</table>\n",
       "</div>"
      ],
      "text/plain": [
       "   id             Date                                            Comment\n",
       "0   1  20120603163526Z                 \"like this if you are a tribe fan\"\n",
       "1   2  20120531215447Z              \"you're idiot.......................\"\n",
       "2   3  20120823164228Z  \"I am a woman Babs, and the only \"war on women...\n",
       "3   4  20120826010752Z  \"WOW & YOU BENEFITTED SO MANY WINS THIS YEAR F...\n",
       "4   5  20120602223825Z  \"haha green me red you now loser whos winning ..."
      ]
     },
     "execution_count": 5,
     "metadata": {},
     "output_type": "execute_result"
    }
   ],
   "source": [
    "# Inspecting test dataset\n",
    "df_test.head(5)"
   ]
  },
  {
   "cell_type": "code",
   "execution_count": 6,
   "metadata": {},
   "outputs": [
    {
     "data": {
      "text/plain": [
       "((3947, 3), (2235, 3))"
      ]
     },
     "execution_count": 6,
     "metadata": {},
     "output_type": "execute_result"
    }
   ],
   "source": [
    "# getting the shape of dataframe\n",
    "df.shape, df_test.shape"
   ]
  },
  {
   "cell_type": "code",
   "execution_count": 7,
   "metadata": {},
   "outputs": [
    {
     "data": {
      "text/html": [
       "<div>\n",
       "<style>\n",
       "    .dataframe thead tr:only-child th {\n",
       "        text-align: right;\n",
       "    }\n",
       "\n",
       "    .dataframe thead th {\n",
       "        text-align: left;\n",
       "    }\n",
       "\n",
       "    .dataframe tbody tr th {\n",
       "        vertical-align: top;\n",
       "    }\n",
       "</style>\n",
       "<table border=\"1\" class=\"dataframe\">\n",
       "  <thead>\n",
       "    <tr style=\"text-align: right;\">\n",
       "      <th></th>\n",
       "      <th>Comment</th>\n",
       "    </tr>\n",
       "    <tr>\n",
       "      <th>Insult</th>\n",
       "      <th></th>\n",
       "    </tr>\n",
       "  </thead>\n",
       "  <tbody>\n",
       "    <tr>\n",
       "      <th>0</th>\n",
       "      <td>2898</td>\n",
       "    </tr>\n",
       "    <tr>\n",
       "      <th>1</th>\n",
       "      <td>1049</td>\n",
       "    </tr>\n",
       "  </tbody>\n",
       "</table>\n",
       "</div>"
      ],
      "text/plain": [
       "        Comment\n",
       "Insult         \n",
       "0          2898\n",
       "1          1049"
      ]
     },
     "execution_count": 7,
     "metadata": {},
     "output_type": "execute_result"
    }
   ],
   "source": [
    "# Getting the Count of Positive and Negative\n",
    "df[['Comment','Insult']].groupby('Insult').count()"
   ]
  },
  {
   "cell_type": "markdown",
   "metadata": {},
   "source": [
    "In total, **1049** of the examples are labelled as **“insulting”**, while the remaining **2898** examples are labelled as **“not insulting”**."
   ]
  },
  {
   "cell_type": "code",
   "execution_count": 8,
   "metadata": {},
   "outputs": [
    {
     "data": {
      "text/html": [
       "<div>\n",
       "<style>\n",
       "    .dataframe thead tr:only-child th {\n",
       "        text-align: right;\n",
       "    }\n",
       "\n",
       "    .dataframe thead th {\n",
       "        text-align: left;\n",
       "    }\n",
       "\n",
       "    .dataframe tbody tr th {\n",
       "        vertical-align: top;\n",
       "    }\n",
       "</style>\n",
       "<table border=\"1\" class=\"dataframe\">\n",
       "  <thead>\n",
       "    <tr style=\"text-align: right;\">\n",
       "      <th></th>\n",
       "      <th>Insult</th>\n",
       "      <th>Comment</th>\n",
       "    </tr>\n",
       "  </thead>\n",
       "  <tbody>\n",
       "    <tr>\n",
       "      <th>3942</th>\n",
       "      <td>1</td>\n",
       "      <td>\"you are both morons and that is never happening\"</td>\n",
       "    </tr>\n",
       "    <tr>\n",
       "      <th>3943</th>\n",
       "      <td>0</td>\n",
       "      <td>\"Many toolbars include spell check, like Yahoo...</td>\n",
       "    </tr>\n",
       "    <tr>\n",
       "      <th>3944</th>\n",
       "      <td>0</td>\n",
       "      <td>\"@LambeauOrWrigley\\xa0\\xa0@K.Moss\\xa0\\nSioux F...</td>\n",
       "    </tr>\n",
       "    <tr>\n",
       "      <th>3945</th>\n",
       "      <td>0</td>\n",
       "      <td>\"How about Felix? He is sure turning into one ...</td>\n",
       "    </tr>\n",
       "    <tr>\n",
       "      <th>3946</th>\n",
       "      <td>0</td>\n",
       "      <td>\"You're all upset, defending this hipster band...</td>\n",
       "    </tr>\n",
       "  </tbody>\n",
       "</table>\n",
       "</div>"
      ],
      "text/plain": [
       "      Insult                                            Comment\n",
       "3942       1  \"you are both morons and that is never happening\"\n",
       "3943       0  \"Many toolbars include spell check, like Yahoo...\n",
       "3944       0  \"@LambeauOrWrigley\\xa0\\xa0@K.Moss\\xa0\\nSioux F...\n",
       "3945       0  \"How about Felix? He is sure turning into one ...\n",
       "3946       0  \"You're all upset, defending this hipster band..."
      ]
     },
     "execution_count": 8,
     "metadata": {},
     "output_type": "execute_result"
    }
   ],
   "source": [
    "# Inspect data\n",
    "df[['Insult', 'Comment']].tail(5)"
   ]
  },
  {
   "cell_type": "code",
   "execution_count": 9,
   "metadata": {
    "collapsed": true
   },
   "outputs": [],
   "source": [
    "# splitting Labels and comments\n",
    "label, comments, comments_test = df['Insult'],df['Comment'], df_test['Comment']"
   ]
  },
  {
   "cell_type": "markdown",
   "metadata": {
    "collapsed": true
   },
   "source": [
    "#### Note: merging two dataframes - df[Comment] & df_test[Comment]\n",
    "Reason - ValueError: X has 5943(df_test['Comment']) features per sample; expecting 11796 (df['Comment'])\n",
    "This is because of the differnece in number of feature classifier is built on\n",
    "Than features used to test classifier"
   ]
  },
  {
   "cell_type": "code",
   "execution_count": 10,
   "metadata": {},
   "outputs": [
    {
     "data": {
      "text/plain": [
       "((3947,), (2235,))"
      ]
     },
     "execution_count": 10,
     "metadata": {},
     "output_type": "execute_result"
    }
   ],
   "source": [
    "# Shape\n",
    "comments.shape, comments_test.shape"
   ]
  },
  {
   "cell_type": "code",
   "execution_count": 11,
   "metadata": {},
   "outputs": [
    {
     "data": {
      "text/plain": [
       "(pandas.core.series.Series, pandas.core.series.Series, (6182,))"
      ]
     },
     "execution_count": 11,
     "metadata": {},
     "output_type": "execute_result"
    }
   ],
   "source": [
    "comments_large=pd.concat([comments,comments_test])\n",
    "# checking label, comments\n",
    "type(label), type(comments_large), comments_large.shape"
   ]
  },
  {
   "cell_type": "markdown",
   "metadata": {},
   "source": [
    "## II. Data Wrangling\n",
    "\n",
    "Once the data has been loaded, data wrangling pipeline is being created to clean data and remove garbage characters. \n",
    "\n",
    "1. Text Cleansing.\n",
    "2. Tokenization\n",
    "3. Stemming\n",
    "4. Lemmatization\n",
    "5. Stop words removal"
   ]
  },
  {
   "cell_type": "code",
   "execution_count": 12,
   "metadata": {
    "collapsed": true
   },
   "outputs": [],
   "source": [
    "from nltk import sent_tokenize\n",
    "import re\n",
    "from re import sub\n",
    "import string\n",
    "from nltk.stem.wordnet import WordNetLemmatizer\n",
    "from nltk.stem.snowball import SnowballStemmer"
   ]
  },
  {
   "cell_type": "markdown",
   "metadata": {},
   "source": [
    "#### Text Cleaning: Removing Stopwords"
   ]
  },
  {
   "cell_type": "code",
   "execution_count": 14,
   "metadata": {},
   "outputs": [],
   "source": [
    "import nltk\n",
    "from nltk.corpus import stopwords\n",
    "stopWords = set(stopwords.words('english'))"
   ]
  },
  {
   "cell_type": "markdown",
   "metadata": {},
   "source": [
    "####  Text Cleaning: To Lower Case"
   ]
  },
  {
   "cell_type": "code",
   "execution_count": 15,
   "metadata": {
    "collapsed": true
   },
   "outputs": [],
   "source": [
    "def to_lower_case(data):\n",
    "    data=data.str.lower()\n",
    "    data.iloc[5]"
   ]
  },
  {
   "cell_type": "markdown",
   "metadata": {},
   "source": [
    "#### Text Cleaning: Removing special characters"
   ]
  },
  {
   "cell_type": "code",
   "execution_count": 16,
   "metadata": {
    "collapsed": true
   },
   "outputs": [],
   "source": [
    "def remove_special_char(x):\n",
    "    # this will replace all punctuations with spaces\n",
    "    punc = string.punctuation.replace(\"-\", \"\")\n",
    "    punc = punc.replace(\"'\", \"\")\n",
    "    pat= r\"[{}]\".format(punc)\n",
    "    x=re.sub(pat, \" \", x)\n",
    "    \n",
    "    # this will replace all digits with None\n",
    "    x=re.sub(pattern=r\"\\d\", repl=r\" \", string=x)\n",
    "    # this will strip extra white spaces\n",
    "    return \" \".join( i for i in stemming(x))"
   ]
  },
  {
   "cell_type": "markdown",
   "metadata": {},
   "source": [
    "#### Text Cleaning: Stemming and Lemmatization"
   ]
  },
  {
   "cell_type": "code",
   "execution_count": 17,
   "metadata": {
    "collapsed": true
   },
   "outputs": [],
   "source": [
    "def stemming(x):\n",
    "    # Lemmatize\n",
    "    st = WordNetLemmatizer()\n",
    "    words=x.strip().split()\n",
    "    # stemming words\n",
    "    st3=SnowballStemmer(\"english\")\n",
    "    return [st3.stem(st.lemmatize(x)) for x in words]"
   ]
  },
  {
   "cell_type": "markdown",
   "metadata": {},
   "source": [
    "#### Text Cleaning: Tokenization"
   ]
  },
  {
   "cell_type": "code",
   "execution_count": 18,
   "metadata": {},
   "outputs": [],
   "source": [
    "def tokenize(data):\n",
    "    tf = text.TfidfVectorizer(stop_words=stopWords, ngram_range=(1, 1))\n",
    "    X = tf.fit_transform(data)\n",
    "    print(\"shape of sparse matrix\", X.shape)\n",
    "    return X"
   ]
  },
  {
   "cell_type": "code",
   "execution_count": 18,
   "metadata": {
    "collapsed": true
   },
   "outputs": [],
   "source": [
    "# this is experimental tokenizer with ngram features\n",
    "# tf = text.TfidfVectorizer(stop_words=stopWords,ngram_range=(1, 5))"
   ]
  },
  {
   "cell_type": "markdown",
   "metadata": {},
   "source": [
    "#### Kicking off Data Wrangling"
   ]
  },
  {
   "cell_type": "code",
   "execution_count": 19,
   "metadata": {
    "collapsed": true
   },
   "outputs": [],
   "source": [
    "def data_cleaning(data):\n",
    "    #making a copy of transformed \n",
    "    to_lower_case(data)\n",
    "    transformed = data.apply(remove_special_char)\n",
    "    print(\"\\nTransformation:\", data.iloc[1], transformed.iloc[1])\n",
    "    \n",
    "    # checking sparsity of matrix\n",
    "    X=tokenize(transformed)\n",
    "    print(\"Each sample has ~{0:.2%} non-zero features.\".format(X.nnz / float(X.shape[0] * X.shape[1])))\n",
    "    return X"
   ]
  },
  {
   "cell_type": "code",
   "execution_count": 20,
   "metadata": {},
   "outputs": [
    {
     "name": "stdout",
     "output_type": "stream",
     "text": [
      "\n",
      "Transformation: \"i really don't understand your point.\\xa0 It seems that you are mixing apples and oranges.\" i realli don't understand your point \\xa it seem that you are mix appl and orang\n",
      "shape of sparse matrix (6182, 14180)\n",
      "Each sample has ~0.10% non-zero features.\n"
     ]
    },
    {
     "data": {
      "text/plain": [
       "scipy.sparse.csr.csr_matrix"
      ]
     },
     "execution_count": 20,
     "metadata": {},
     "output_type": "execute_result"
    }
   ],
   "source": [
    "# Clean training Comments\n",
    "comments_large_cleaned=data_cleaning(comments_large)\n",
    "type(comments_large_cleaned)"
   ]
  },
  {
   "cell_type": "markdown",
   "metadata": {},
   "source": [
    "#### Splitting Training and Testing Datasets"
   ]
  },
  {
   "cell_type": "code",
   "execution_count": 25,
   "metadata": {},
   "outputs": [
    {
     "data": {
      "text/plain": [
       "(scipy.sparse.csr.csr_matrix,\n",
       " scipy.sparse.csr.csr_matrix,\n",
       " (3947, 14180),\n",
       " (2235, 14180))"
      ]
     },
     "execution_count": 25,
     "metadata": {},
     "output_type": "execute_result"
    }
   ],
   "source": [
    "from scipy import sparse\n",
    "# expanding matrix\n",
    "temp=comments_large_cleaned.todense()\n",
    "\n",
    "# splitting the data\n",
    "comments_training,comments_testing=temp[:3947],temp[3947:]\n",
    "\n",
    "# converting to sparse matrix\n",
    "X_training,X_testing=sparse.csr_matrix(comments_training),sparse.csr_matrix(comments_testing)\n",
    "\n",
    "# inspecting the transformed data\n",
    "type(X_training),type(X_testing), X_training.shape, X_testing.shape"
   ]
  },
  {
   "cell_type": "markdown",
   "metadata": {},
   "source": [
    "# III. Building Model\n",
    "\n",
    "First I will use linear classification models **Naïve Bayes, SVMs, and Logistic Regression** for building the classifier as they are very common and easy models for classification. \n",
    "\n",
    "Following this I will build Non-Linear classifiers  like **Random Forest Classifier, Decision Tree Classifier**."
   ]
  },
  {
   "cell_type": "markdown",
   "metadata": {},
   "source": [
    "#### Preparing Training Data - 80:20 (Train and Validation)"
   ]
  },
  {
   "cell_type": "code",
   "execution_count": 26,
   "metadata": {},
   "outputs": [
    {
     "data": {
      "text/plain": [
       "((3157, 14180), (790, 14180), (3157,), (790,))"
      ]
     },
     "execution_count": 26,
     "metadata": {},
     "output_type": "execute_result"
    }
   ],
   "source": [
    "(X_train, X_val,label_train, label_val) = cv(X_training, label, test_size=.2)\n",
    "# investigating the shape of data\n",
    "X_train.shape, X_val.shape, label_train.shape, label_val.shape"
   ]
  },
  {
   "cell_type": "markdown",
   "metadata": {},
   "source": [
    "### Linear Classification Models"
   ]
  },
  {
   "cell_type": "markdown",
   "metadata": {},
   "source": [
    "### 1. Logistic Regression (LR)\n",
    "\n",
    "ref: http://scikit-learn.org/stable/modules/generated/sklearn.linear_model.LogisticRegression.html"
   ]
  },
  {
   "cell_type": "code",
   "execution_count": 37,
   "metadata": {
    "collapsed": true
   },
   "outputs": [],
   "source": [
    "def model_LR():\n",
    "    # building classifier\n",
    "    clf = LogisticRegression(tol=1e-8, penalty='l2', C=2)\n",
    "    # training classifier\n",
    "    clf.fit(X_train, label_train)\n",
    "    print(\"Model: \",type(clf))\n",
    "    # Predicting probabilities\n",
    "    p = clf.predict_proba(X_val)\n",
    "    return (clf.predict(X_val),p,clf)"
   ]
  },
  {
   "cell_type": "markdown",
   "metadata": {},
   "source": [
    "### 2. Support Vector Machine (SVM)\n",
    "\n",
    "ref: http://scikit-learn.org/stable/modules/generated/sklearn.svm.LinearSVC.html#sklearn.svm.LinearSVC"
   ]
  },
  {
   "cell_type": "code",
   "execution_count": 53,
   "metadata": {
    "collapsed": true
   },
   "outputs": [],
   "source": [
    "def model_SVM():\n",
    "    # building classifier\n",
    "    clf = svm.LinearSVC(penalty='l2', loss='squared_hinge',tol=1e-8)\n",
    "    # training classifier\n",
    "    clf.fit(X_train, label_train)\n",
    "    # model type\n",
    "    print(\"Model: \",type(clf))\n",
    "    return (clf.predict(X_val),clf)"
   ]
  },
  {
   "cell_type": "markdown",
   "metadata": {},
   "source": [
    "### 3. Naive Bayes (NB)\n",
    "Bernoulli Naive Baiyes (ref: http://scikit-learn.org/stable/modules/naive_bayes.html#naive-bayes)"
   ]
  },
  {
   "cell_type": "code",
   "execution_count": 54,
   "metadata": {
    "collapsed": true
   },
   "outputs": [],
   "source": [
    "def model_BernoulliNB():\n",
    "    # creating classifier\n",
    "    clf = nb.BernoulliNB(alpha=1.0, binarize=0.0)\n",
    "    # training classifier\n",
    "    clf.fit(X_train, label_train)\n",
    "    # model type\n",
    "    print(\"Model: \",type(clf))\n",
    "    # Predicting probabilities\n",
    "    p = clf.predict_proba(X_val)\n",
    "    return (clf.predict(X_val),p,clf)"
   ]
  },
  {
   "cell_type": "markdown",
   "metadata": {},
   "source": [
    "### Non-Linear Classification Models\n"
   ]
  },
  {
   "cell_type": "markdown",
   "metadata": {},
   "source": [
    "### 1. Random Forest Classifier"
   ]
  },
  {
   "cell_type": "code",
   "execution_count": 55,
   "metadata": {
    "collapsed": true
   },
   "outputs": [],
   "source": [
    "def model_RF():\n",
    "    # creating classifier\n",
    "    clf = RandomForestClassifier(n_estimators=100)\n",
    "    # training classifier\n",
    "    clf.fit(X_train, label_train)\n",
    "    # model type\n",
    "    print(\"Model: \",type(clf))\n",
    "    # Predicting probabilities\n",
    "    p = clf.predict_proba(X_val)\n",
    "    return (clf.predict(X_val),p,clf)"
   ]
  },
  {
   "cell_type": "markdown",
   "metadata": {},
   "source": [
    "### 2. Decision Tree Classifier (DT)"
   ]
  },
  {
   "cell_type": "code",
   "execution_count": 56,
   "metadata": {
    "collapsed": true
   },
   "outputs": [],
   "source": [
    "def model_DT():\n",
    "    # creating classifier\n",
    "    clf = DecisionTreeClassifier(max_depth=100)\n",
    "    # training classifier\n",
    "    clf.fit(X_train, label_train)\n",
    "    # model type\n",
    "    print(\"Model: \",type(clf))\n",
    "    # Predicting probabilities\n",
    "    p = clf.predict_proba(X_val)\n",
    "    return (clf.predict(X_val),p,clf)"
   ]
  },
  {
   "cell_type": "markdown",
   "metadata": {},
   "source": [
    "# IV. Model Evaluation\n",
    "\n",
    "The primary evaluation metrics that I have used on my system training are **accuracy and 10-fold cross validation**. I used the training accuracy to determine how well the model is fitting in training data and testing with validation data. The cross validation accuracy was more significant because it was more generalized."
   ]
  },
  {
   "cell_type": "code",
   "execution_count": 41,
   "metadata": {
    "collapsed": true
   },
   "outputs": [],
   "source": [
    "from sklearn import metrics\n",
    "from sklearn.metrics import confusion_matrix\n",
    "import matplotlib.pyplot as plt\n",
    "from sklearn.metrics import roc_auc_score as auc_score"
   ]
  },
  {
   "cell_type": "code",
   "execution_count": 31,
   "metadata": {
    "collapsed": true
   },
   "outputs": [],
   "source": [
    "def model_evaluation(model,label_test):\n",
    "    # confusion matrix:\n",
    "    cm = confusion_matrix(label_test, model, labels=None, sample_weight=None)\n",
    "    # true positive(tp) / false negative(fn) / false positive(fp) / true negaive(tn)\n",
    "    tp, fn, fp, tn = cm[0][0], cm[0][1], cm[1][0], cm[1][1]\n",
    "    # precision\n",
    "    precision= float(tp)/(tp+fp)\n",
    "    # recall\n",
    "    recall =  float(tp)/(tp+tn)\n",
    "    # accuracy\n",
    "    accuracy = np.mean(model == label_test)\n",
    "    \n",
    "    # print results\n",
    "    print_results (precision, recall, accuracy)    \n",
    "    # plot the curve\n",
    "    plot_roc_graph(model,label_test)\n",
    "    # return accuracy, precision, recall values\n",
    "    return accuracy,precision,recall"
   ]
  },
  {
   "cell_type": "code",
   "execution_count": 34,
   "metadata": {
    "collapsed": true
   },
   "outputs": [],
   "source": [
    "def print_results (precision, recall, accuracy):\n",
    "    banner = \"Here is the classification report\"\n",
    "    print ('\\n',banner)\n",
    "    print ('=' * len(banner))\n",
    "    print ('{0:10s} {1:.1f}'.format('Precision',precision*100))\n",
    "    print ('{0:10s} {1:.1f}'.format('Recall',recall*100))\n",
    "    print ('{0:10s} {1:.1f}'.format('Accuracy',accuracy*100))"
   ]
  },
  {
   "cell_type": "code",
   "execution_count": 42,
   "metadata": {
    "collapsed": true
   },
   "outputs": [],
   "source": [
    "def plot_roc_graph(label_predicted,label_test):\n",
    "    # Plot ROC Curve\n",
    "    fpr, tpr, _ = metrics.roc_curve(label_test,label_predicted)\n",
    "    # calculate AUC score\n",
    "    auc = auc_score(label_test, label_predicted)\n",
    "    plt.plot(fpr,tpr,label=\"data, auc=\"+str(auc))\n",
    "    plt.legend(loc=4)\n",
    "    plt.show()"
   ]
  },
  {
   "cell_type": "markdown",
   "metadata": {},
   "source": [
    "## Accuracy, Precision, Recall"
   ]
  },
  {
   "cell_type": "code",
   "execution_count": 48,
   "metadata": {
    "collapsed": true
   },
   "outputs": [],
   "source": [
    "# List of all Models\n",
    "all_models=[]\n",
    "# List of all predictions\n",
    "all_predictions=[]\n",
    "# Precision Recall\n",
    "all_precision=[]\n",
    "all_recall=[]\n",
    "# List of all model accuracy\n",
    "accuracy_normal=[]"
   ]
  },
  {
   "cell_type": "markdown",
   "metadata": {},
   "source": [
    "#### Logistic Regression"
   ]
  },
  {
   "cell_type": "code",
   "execution_count": 50,
   "metadata": {},
   "outputs": [
    {
     "name": "stdout",
     "output_type": "stream",
     "text": [
      "Model:  <class 'sklearn.linear_model.logistic.LogisticRegression'>\n",
      "\n",
      " Here is the classification report\n",
      "=================================\n",
      "Precision  83.7\n",
      "Recall     88.7\n",
      "Accuracy   83.7\n"
     ]
    },
    {
     "data": {
      "image/png": "[encoded data removed]",
      "text/plain": [
       "<matplotlib.figure.Figure at 0x12237d978>"
      ]
     },
     "metadata": {},
     "output_type": "display_data"
    },
    {
     "name": "stdout",
     "output_type": "stream",
     "text": [
      "AUC Score  87.2\n"
     ]
    }
   ],
   "source": [
    "# model prediction\n",
    "clf_LR, p, model_lr = model_LR()\n",
    "all_models.append(model_lr)\n",
    "all_predictions.append(clf_LR)\n",
    "\n",
    "# model evaluation\n",
    "(acc_LR,p_LR,r_LR) = model_evaluation(clf_LR, label_val)\n",
    "print ('{0:10s} {1:.1f}'.format('AUC Score',auc_score(label_val, p[:,1])*100))\n",
    "accuracy_normal.append(round(acc_LR*100,2))\n",
    "all_precision.append(p_LR)\n",
    "all_recall.append(r_LR)"
   ]
  },
  {
   "cell_type": "markdown",
   "metadata": {},
   "source": [
    "#### Support Vector Machine"
   ]
  },
  {
   "cell_type": "code",
   "execution_count": 57,
   "metadata": {},
   "outputs": [
    {
     "name": "stdout",
     "output_type": "stream",
     "text": [
      "Model:  <class 'sklearn.svm.classes.LinearSVC'>\n",
      "\n",
      " Here is the classification report\n",
      "=================================\n",
      "Precision  86.1\n",
      "Recall     85.2\n",
      "Accuracy   83.5\n"
     ]
    },
    {
     "data": {
      "image/png": "[encoded data removed]",
      "text/plain": [
       "<matplotlib.figure.Figure at 0x122a9f240>"
      ]
     },
     "metadata": {},
     "output_type": "display_data"
    }
   ],
   "source": [
    "# model prediction\n",
    "clf_SVM,model_svm = model_SVM()\n",
    "all_models.append(model_svm)\n",
    "all_predictions.append(clf_SVM)\n",
    "\n",
    "# model evaluation\n",
    "(acc_SVM, p_SVM, r_SVM) = model_evaluation(clf_SVM, label_val)\n",
    "accuracy_normal.append(round(acc_SVM*100,2))\n",
    "all_precision.append(p_SVM)\n",
    "all_recall.append(r_SVM)"
   ]
  },
  {
   "cell_type": "markdown",
   "metadata": {},
   "source": [
    "#### Naive Bayes"
   ]
  },
  {
   "cell_type": "code",
   "execution_count": 58,
   "metadata": {},
   "outputs": [
    {
     "name": "stdout",
     "output_type": "stream",
     "text": [
      "Model:  <class 'sklearn.naive_bayes.BernoulliNB'>\n",
      "\n",
      " Here is the classification report\n",
      "=================================\n",
      "Precision  78.2\n",
      "Recall     95.7\n",
      "Accuracy   77.2\n"
     ]
    },
    {
     "data": {
      "image/png": "[encoded data removed]",
      "text/plain": [
       "<matplotlib.figure.Figure at 0x122889278>"
      ]
     },
     "metadata": {},
     "output_type": "display_data"
    },
    {
     "name": "stdout",
     "output_type": "stream",
     "text": [
      "AUC Score  81.0\n"
     ]
    }
   ],
   "source": [
    "# model prediction\n",
    "clf_NB,p,model_nb=model_BernoulliNB()\n",
    "all_models.append(model_nb)\n",
    "all_predictions.append(clf_NB)\n",
    "\n",
    "# model evaluation\n",
    "(acc_NB,p_NB,r_NB) = model_evaluation(clf_NB, label_val)\n",
    "print ('{0:10s} {1:.1f}'.format('AUC Score',auc_score(label_val, p[:,1])*100))\n",
    "accuracy_normal.append(round(acc_NB*100,2))\n",
    "all_precision.append(p_NB)\n",
    "all_recall.append(r_NB)"
   ]
  },
  {
   "cell_type": "markdown",
   "metadata": {},
   "source": [
    "#### Random Forest"
   ]
  },
  {
   "cell_type": "code",
   "execution_count": 59,
   "metadata": {},
   "outputs": [
    {
     "name": "stdout",
     "output_type": "stream",
     "text": [
      "Model:  <class 'sklearn.ensemble.forest.RandomForestClassifier'>\n",
      "\n",
      " Here is the classification report\n",
      "=================================\n",
      "Precision  84.0\n",
      "Recall     88.2\n",
      "Accuracy   83.5\n"
     ]
    },
    {
     "data": {
      "image/png": "[encoded data removed]",
      "text/plain": [
       "<matplotlib.figure.Figure at 0x11eefe6d8>"
      ]
     },
     "metadata": {},
     "output_type": "display_data"
    },
    {
     "name": "stdout",
     "output_type": "stream",
     "text": [
      "AUC Score  85.2\n"
     ]
    }
   ],
   "source": [
    "# model prediction\n",
    "clf_RF,p,model_rf=model_RF()\n",
    "all_models.append(model_rf)\n",
    "all_predictions.append(clf_RF)\n",
    "\n",
    "# model evaluation\n",
    "(acc_RF,p_RF,r_RF) = model_evaluation(clf_RF, label_val)\n",
    "print ('{0:10s} {1:.1f}'.format('AUC Score',auc_score(label_val, p[:,1])*100))\n",
    "accuracy_normal.append(round(acc_RF*100,2))\n",
    "all_precision.append(p_RF)\n",
    "all_recall.append(p_RF)"
   ]
  },
  {
   "cell_type": "markdown",
   "metadata": {},
   "source": [
    "#### Decision Tree"
   ]
  },
  {
   "cell_type": "code",
   "execution_count": 60,
   "metadata": {},
   "outputs": [
    {
     "name": "stdout",
     "output_type": "stream",
     "text": [
      "Model:  <class 'sklearn.tree.tree.DecisionTreeClassifier'>\n",
      "\n",
      " Here is the classification report\n",
      "=================================\n",
      "Precision  86.1\n",
      "Recall     83.8\n",
      "Accuracy   80.4\n"
     ]
    },
    {
     "data": {
      "image/png": "[encoded data removed]",
      "text/plain": [
       "<matplotlib.figure.Figure at 0x122889320>"
      ]
     },
     "metadata": {},
     "output_type": "display_data"
    },
    {
     "name": "stdout",
     "output_type": "stream",
     "text": [
      "AUC Score  66.4\n"
     ]
    }
   ],
   "source": [
    "# model prediction\n",
    "clf_DT,p,model_dt=model_DT()\n",
    "all_models.append(model_dt)\n",
    "all_predictions.append(clf_DT)\n",
    "\n",
    "# model evaluation\n",
    "(acc_DT, p_DT, r_DT)= model_evaluation(clf_DT, label_val)\n",
    "print ('{0:10s} {1:.1f}'.format('AUC Score',auc_score(label_val, p[:,1])*100))\n",
    "accuracy_normal.append(round((acc_DT*100),2))\n",
    "all_precision.append(p_DT)\n",
    "all_recall.append(r_DT)"
   ]
  },
  {
   "cell_type": "markdown",
   "metadata": {},
   "source": [
    "## Accuracy : K-Fold Cross Validation"
   ]
  },
  {
   "cell_type": "code",
   "execution_count": 61,
   "metadata": {
    "collapsed": true
   },
   "outputs": [],
   "source": [
    "# Logistic Regression\n",
    "clf1 = LogisticRegression(tol=1e-8, penalty='l2', C=2)\n",
    "# Support Vector Machines\n",
    "clf2 = svm.LinearSVC(penalty='l2', loss='squared_hinge')\n",
    "# Naive Bayes\n",
    "clf3 = nb.BernoulliNB(alpha=1.0, binarize=0.0)\n",
    "# Random Forest\n",
    "clf4 = RandomForestClassifier(n_estimators=100)\n",
    "# Decision Tree\n",
    "clf5 = DecisionTreeClassifier(max_depth=100)\n",
    "created_models=[clf1, clf2, clf3, clf4, clf5]"
   ]
  },
  {
   "cell_type": "code",
   "execution_count": 62,
   "metadata": {},
   "outputs": [],
   "source": [
    "def k_fold_validation(data, kFolds):\n",
    "    # Accuracy after cross validation:\n",
    "    accuracy_cv=[]\n",
    "    for clf in created_models:\n",
    "        accuracy_common=0\n",
    "        for test_run in range(kFolds):\n",
    "            (X_train, X_test, y_train, y_test) = cv(X_training, label, test_size=.2)\n",
    "            # fit classifier\n",
    "            clf.fit(X_train, y_train)\n",
    "            # predict \n",
    "            model=clf.predict(X_test)\n",
    "            # compare result\n",
    "            accuracy=np.mean(model == y_test)\n",
    "            # append to common\n",
    "            accuracy_common += accuracy\n",
    "        # add to list of accuracy \n",
    "        accuracy_cv.append(float(accuracy_common)/10*100)\n",
    "    return accuracy_cv"
   ]
  },
  {
   "cell_type": "code",
   "execution_count": 63,
   "metadata": {},
   "outputs": [
    {
     "name": "stdout",
     "output_type": "stream",
     "text": [
      "Normal Accuracy\n",
      "================\n",
      "[83.67, 83.54, 77.22, 83.54, 80.38]\n",
      "\n",
      "Accuracy post CV\n",
      "================\n",
      "[82.41, 82.71, 74.41, 82.23, 79.48]\n"
     ]
    }
   ],
   "source": [
    "# Number of Folds\n",
    "n_Folds = 10\n",
    "# perform k-cross validation\n",
    "accuracy_cv=k_fold_validation(X_training,n_Folds)\n",
    "accuracy_cv=[round(float(i),2) for i in accuracy_cv]\n",
    "\n",
    "accuracy_normal=[round(float(i),2) for i in accuracy_normal]\n",
    "\n",
    "print(\"Normal Accuracy\")\n",
    "print(\"================\")\n",
    "print(accuracy_normal)\n",
    "print(\"\\nAccuracy post CV\")\n",
    "print(\"================\")\n",
    "print(accuracy_cv)"
   ]
  },
  {
   "cell_type": "markdown",
   "metadata": {},
   "source": [
    "# V. Results\n",
    "\n",
    "With all of the above features and techniques implemented, a cross-validation accuracy of 82.8% was achieved for **Support Vector Machine** Classifier. This was followed by **Random Forest Classifier and Logistic Regression** Respectively.\n",
    "\n",
    "Following diagrams will visually represent the results gained after Cross Validation."
   ]
  },
  {
   "cell_type": "code",
   "execution_count": 79,
   "metadata": {
    "collapsed": true
   },
   "outputs": [],
   "source": [
    "import seaborn as sns\n",
    "import warnings\n",
    "import matplotlib.pyplot as plt; plt.rcdefaults()\n",
    "%matplotlib inline\n",
    "# set plot size\n",
    "fig_size=[7,5]\n",
    "#fig_size[0],fig_size[1] = 8,6\n",
    "plt.rcParams[\"figure.figsize\"] = fig_size\n",
    "# Labels on graph\n",
    "labels = training_df['Technique']\n",
    "# Setting the positions and width for the bars\n",
    "x_pos = list(range(len(training_df[\"Technique\"])))\n",
    "width = 0.25 "
   ]
  },
  {
   "cell_type": "markdown",
   "metadata": {},
   "source": [
    "### A. Normal vs CrossValidation Accuracy Scores "
   ]
  },
  {
   "cell_type": "code",
   "execution_count": 76,
   "metadata": {},
   "outputs": [
    {
     "data": {
      "text/html": [
       "<div>\n",
       "<style>\n",
       "    .dataframe thead tr:only-child th {\n",
       "        text-align: right;\n",
       "    }\n",
       "\n",
       "    .dataframe thead th {\n",
       "        text-align: left;\n",
       "    }\n",
       "\n",
       "    .dataframe tbody tr th {\n",
       "        vertical-align: top;\n",
       "    }\n",
       "</style>\n",
       "<table border=\"1\" class=\"dataframe\">\n",
       "  <thead>\n",
       "    <tr style=\"text-align: right;\">\n",
       "      <th></th>\n",
       "      <th>Technique</th>\n",
       "      <th>Normal_Accuracy</th>\n",
       "      <th>Cross_Validation</th>\n",
       "    </tr>\n",
       "  </thead>\n",
       "  <tbody>\n",
       "    <tr>\n",
       "      <th>0</th>\n",
       "      <td>LogisticRegression</td>\n",
       "      <td>83.67</td>\n",
       "      <td>82.41</td>\n",
       "    </tr>\n",
       "    <tr>\n",
       "      <th>1</th>\n",
       "      <td>SVM</td>\n",
       "      <td>83.54</td>\n",
       "      <td>82.71</td>\n",
       "    </tr>\n",
       "    <tr>\n",
       "      <th>2</th>\n",
       "      <td>NaiveBayes</td>\n",
       "      <td>77.22</td>\n",
       "      <td>74.41</td>\n",
       "    </tr>\n",
       "    <tr>\n",
       "      <th>3</th>\n",
       "      <td>RandomForest</td>\n",
       "      <td>83.54</td>\n",
       "      <td>82.23</td>\n",
       "    </tr>\n",
       "    <tr>\n",
       "      <th>4</th>\n",
       "      <td>DecisionTree</td>\n",
       "      <td>80.38</td>\n",
       "      <td>79.48</td>\n",
       "    </tr>\n",
       "  </tbody>\n",
       "</table>\n",
       "</div>"
      ],
      "text/plain": [
       "            Technique  Normal_Accuracy  Cross_Validation\n",
       "0  LogisticRegression            83.67             82.41\n",
       "1                 SVM            83.54             82.71\n",
       "2          NaiveBayes            77.22             74.41\n",
       "3        RandomForest            83.54             82.23\n",
       "4        DecisionTree            80.38             79.48"
      ]
     },
     "execution_count": 76,
     "metadata": {},
     "output_type": "execute_result"
    }
   ],
   "source": [
    "raw_data = {'Technique': ['LogisticRegression', 'SVM', 'NaiveBayes', 'RandomForest', 'DecisionTree'],\n",
    "            'Normal_Accuracy': accuracy_normal,\n",
    "            'Cross_Validation': accuracy_cv\n",
    "           }\n",
    "training_df = pd.DataFrame(raw_data, columns = ['Technique', 'Normal_Accuracy', 'Cross_Validation'])\n",
    "training_df"
   ]
  },
  {
   "cell_type": "markdown",
   "metadata": {},
   "source": [
    "#### Model Evaluation: Basic Accuracy"
   ]
  },
  {
   "cell_type": "code",
   "execution_count": 103,
   "metadata": {},
   "outputs": [
    {
     "data": {
      "text/plain": [
       "<matplotlib.text.Text at 0x122726d30>"
      ]
     },
     "execution_count": 103,
     "metadata": {},
     "output_type": "execute_result"
    },
    {
     "data": {
      "image/png": "[encoded data removed]",
      "text/plain": [
       "<matplotlib.figure.Figure at 0x122342dd8>"
      ]
     },
     "metadata": {},
     "output_type": "display_data"
    }
   ],
   "source": [
    "# ref: https://chrisalbon.com/python/matplotlib_bar_plot.html\n",
    "plt.bar(x_pos,training_df[\"Normal_Accuracy\"], align='center', color='#FF3386',alpha=0.5)\n",
    "# add a grid\n",
    "plt.grid()\n",
    "# set height of the y-axis\n",
    "max_y = max(training_df[\"Normal_Accuracy\"])+10\n",
    "plt.ylim([0, max_y])\n",
    "# set axes labels and title\n",
    "plt.ylabel('Prediction Accuracy')\n",
    "plt.xticks(x_pos, labels)\n",
    "plt.title('Normal Accuracy for All Models')"
   ]
  },
  {
   "cell_type": "markdown",
   "metadata": {},
   "source": [
    "#### Model Evaluation: Cross Validation"
   ]
  },
  {
   "cell_type": "code",
   "execution_count": 102,
   "metadata": {},
   "outputs": [
    {
     "data": {
      "image/png": "[encoded data removed]",
      "text/plain": [
       "<matplotlib.figure.Figure at 0x123951048>"
      ]
     },
     "metadata": {},
     "output_type": "display_data"
    }
   ],
   "source": [
    "# ref: https://chrisalbon.com/python/matplotlib_bar_plot.html\n",
    "plt.bar(x_pos,training_df[\"Cross_Validation\"], align='center', color='#FFE033',alpha=0.5)\n",
    "# add a grid\n",
    "plt.grid()\n",
    "# set height of the y-axis\n",
    "max_y = max(training_df[\"Normal_Accuracy\"])+20\n",
    "plt.ylim([0, max_y])\n",
    "\n",
    "# set axes labels and title\n",
    "plt.ylabel('Prediction Accuracy')\n",
    "plt.xticks(x_pos, labels)\n",
    "plt.title('Cross Validation Accuracy for All Models')\n",
    "plt.show()"
   ]
  },
  {
   "cell_type": "markdown",
   "metadata": {},
   "source": [
    "#### Comparing  Accuracies - CV vs Normal"
   ]
  },
  {
   "cell_type": "code",
   "execution_count": 92,
   "metadata": {},
   "outputs": [
    {
     "data": {
      "image/png": "[encoded data removed]",
      "text/plain": [
       "<matplotlib.figure.Figure at 0x1223a3470>"
      ]
     },
     "metadata": {},
     "output_type": "display_data"
    }
   ],
   "source": [
    "# Setting the positions and width for the bars\n",
    "pos = list(range(len(training_df['Technique']))) \n",
    "width = 0.25 \n",
    "# Plotting the bars\n",
    "fig, ax = plt.subplots(figsize=(8,6))\n",
    "\n",
    "# Create a bar for RMSE vs MAE,\n",
    "# ref: https://chrisalbon.com/python/matplotlib_grouped_bar_plot.html\n",
    "plt.bar(pos, training_df['Normal_Accuracy'], width,alpha=0.5, color='#33FF52',label=training_df['Technique'][0]) \n",
    "plt.bar([p + width for p in pos], training_df['Cross_Validation'], width, alpha=0.5, color='#C433FF', label=training_df['Technique'][2])\n",
    "\n",
    "# Set the y axis label\n",
    "ax.set_ylabel('Score')\n",
    "# Set the chart's title\n",
    "ax.set_title('Insult Detection')\n",
    "\n",
    "# Set the position of the x ticks\n",
    "ax.set_xticks([p + 1.25 * width for p in pos])\n",
    "# Set the labels for the x ticks\n",
    "ax.set_xticklabels(training_df['Technique'])\n",
    "\n",
    "# Setting the x-axis and y-axis limits\n",
    "plt.xlim(min(pos)-width, max(pos)+width*3)\n",
    "plt.ylim([0, max(training_df['Normal_Accuracy'])+30] )\n",
    "\n",
    "# Adding the legend and showing the plot\n",
    "plt.legend(['Cross_Validation','Normal_Accuracy'], loc='upper left')\n",
    "plt.grid()\n",
    "plt.show()"
   ]
  },
  {
   "cell_type": "markdown",
   "metadata": {},
   "source": [
    "### Comparing Precision Recall Values"
   ]
  },
  {
   "cell_type": "code",
   "execution_count": 83,
   "metadata": {},
   "outputs": [
    {
     "data": {
      "text/html": [
       "<div>\n",
       "<style>\n",
       "    .dataframe thead tr:only-child th {\n",
       "        text-align: right;\n",
       "    }\n",
       "\n",
       "    .dataframe thead th {\n",
       "        text-align: left;\n",
       "    }\n",
       "\n",
       "    .dataframe tbody tr th {\n",
       "        vertical-align: top;\n",
       "    }\n",
       "</style>\n",
       "<table border=\"1\" class=\"dataframe\">\n",
       "  <thead>\n",
       "    <tr style=\"text-align: right;\">\n",
       "      <th></th>\n",
       "      <th>Technique</th>\n",
       "      <th>Precision</th>\n",
       "      <th>Recall</th>\n",
       "    </tr>\n",
       "  </thead>\n",
       "  <tbody>\n",
       "    <tr>\n",
       "      <th>0</th>\n",
       "      <td>LogisticRegression</td>\n",
       "      <td>84.0</td>\n",
       "      <td>89.0</td>\n",
       "    </tr>\n",
       "    <tr>\n",
       "      <th>1</th>\n",
       "      <td>SVM</td>\n",
       "      <td>86.0</td>\n",
       "      <td>85.0</td>\n",
       "    </tr>\n",
       "    <tr>\n",
       "      <th>2</th>\n",
       "      <td>NaiveBayes</td>\n",
       "      <td>78.0</td>\n",
       "      <td>96.0</td>\n",
       "    </tr>\n",
       "    <tr>\n",
       "      <th>3</th>\n",
       "      <td>RandomForest</td>\n",
       "      <td>84.0</td>\n",
       "      <td>84.0</td>\n",
       "    </tr>\n",
       "    <tr>\n",
       "      <th>4</th>\n",
       "      <td>DecisionTree</td>\n",
       "      <td>86.0</td>\n",
       "      <td>84.0</td>\n",
       "    </tr>\n",
       "  </tbody>\n",
       "</table>\n",
       "</div>"
      ],
      "text/plain": [
       "            Technique  Precision  Recall\n",
       "0  LogisticRegression       84.0    89.0\n",
       "1                 SVM       86.0    85.0\n",
       "2          NaiveBayes       78.0    96.0\n",
       "3        RandomForest       84.0    84.0\n",
       "4        DecisionTree       86.0    84.0"
      ]
     },
     "execution_count": 83,
     "metadata": {},
     "output_type": "execute_result"
    }
   ],
   "source": [
    "all_recall=[round(float(i),2) for i in all_recall]\n",
    "all_precision=[round(float(i),2) for i in all_precision]\n",
    "# precision-recall data\n",
    "pr_data = {'Technique': ['LogisticRegression', 'SVM', 'NaiveBayes', 'RandomForest', 'DecisionTree'],\n",
    "            'Precision': all_precision,\n",
    "            'Recall': all_recall\n",
    "           }\n",
    "pr_df = pd.DataFrame(pr_data, columns = ['Technique', 'Precision', 'Recall'])\n",
    "pr_df"
   ]
  },
  {
   "cell_type": "code",
   "execution_count": 91,
   "metadata": {},
   "outputs": [
    {
     "data": {
      "image/png": "[encoded data removed]",
      "text/plain": [
       "<matplotlib.figure.Figure at 0x1227d8908>"
      ]
     },
     "metadata": {},
     "output_type": "display_data"
    }
   ],
   "source": [
    "# Setting the positions and width for the bars\n",
    "pos = list(range(len(pr_df['Technique']))) \n",
    "width = 0.25 \n",
    "# Plotting the bars\n",
    "fig, ax = plt.subplots(figsize=(8,6))\n",
    "\n",
    "# Create a bar for RMSE vs MAE,\n",
    "# ref: https://chrisalbon.com/python/matplotlib_grouped_bar_plot.html\n",
    "plt.bar(pos, pr_df['Precision'], width,alpha=0.5, color='#33A2FF',label=training_df['Technique'][0]) \n",
    "plt.bar([p + width for p in pos], pr_df['Recall'], width, alpha=0.5, color='#FF6433', label=pr_df['Technique'][2])\n",
    "\n",
    "# Set the y axis label\n",
    "ax.set_ylabel('Precision-Recall Score')\n",
    "# Set the chart's title\n",
    "ax.set_title('Insult Detection Precision-Recall value graph')\n",
    "\n",
    "# Set the position of the x ticks\n",
    "ax.set_xticks([p + 1.25 * width for p in pos])\n",
    "# Set the labels for the x ticks\n",
    "ax.set_xticklabels(pr_df['Technique'])\n",
    "\n",
    "# Setting the x-axis and y-axis limits\n",
    "plt.xlim(min(pos)-width, max(pos)+width*3)\n",
    "plt.ylim([0, max(pr_df['Precision'])+30] )\n",
    "\n",
    "# Adding the legend and showing the plot\n",
    "plt.legend(['Precision','Recall'], loc='upper left')\n",
    "plt.grid()\n",
    "plt.show()"
   ]
  },
  {
   "cell_type": "markdown",
   "metadata": {},
   "source": [
    "### Validating Prediction Results"
   ]
  },
  {
   "cell_type": "code",
   "execution_count": 100,
   "metadata": {},
   "outputs": [],
   "source": [
    "(comments_,comments_val) = cv(comments,test_size=.2)\n",
    "validation_df = {'Comment':list(comments_val),\n",
    "                 'TrueLabels':list(label_val),\n",
    "                 'LogisticRegression': list(all_predictions[0]),\n",
    "                 'SVM': list(all_predictions[1]),\n",
    "                 'NaiveBayes': list(all_predictions[2]),\n",
    "                 'RandomForest': list(all_predictions[3]),\n",
    "                 'DecisionTree': list(all_predictions[4])}\n",
    "val_results = pd.DataFrame(validation_df, columns = ['Comment','TrueLabels','LogisticRegression','SVM','NaiveBayes','RandomForest','DecisionTree'])"
   ]
  },
  {
   "cell_type": "code",
   "execution_count": 101,
   "metadata": {},
   "outputs": [
    {
     "data": {
      "text/html": [
       "<div>\n",
       "<style>\n",
       "    .dataframe thead tr:only-child th {\n",
       "        text-align: right;\n",
       "    }\n",
       "\n",
       "    .dataframe thead th {\n",
       "        text-align: left;\n",
       "    }\n",
       "\n",
       "    .dataframe tbody tr th {\n",
       "        vertical-align: top;\n",
       "    }\n",
       "</style>\n",
       "<table border=\"1\" class=\"dataframe\">\n",
       "  <thead>\n",
       "    <tr style=\"text-align: right;\">\n",
       "      <th></th>\n",
       "      <th>Comment</th>\n",
       "      <th>TrueLabels</th>\n",
       "      <th>LogisticRegression</th>\n",
       "      <th>SVM</th>\n",
       "      <th>NaiveBayes</th>\n",
       "      <th>RandomForest</th>\n",
       "      <th>DecisionTree</th>\n",
       "    </tr>\n",
       "  </thead>\n",
       "  <tbody>\n",
       "    <tr>\n",
       "      <th>770</th>\n",
       "      <td>\"Klein, you are a coward. Did you really inter...</td>\n",
       "      <td>1</td>\n",
       "      <td>0</td>\n",
       "      <td>0</td>\n",
       "      <td>0</td>\n",
       "      <td>1</td>\n",
       "      <td>1</td>\n",
       "    </tr>\n",
       "    <tr>\n",
       "      <th>771</th>\n",
       "      <td>\"You certainly are as 'right wing' as they com...</td>\n",
       "      <td>0</td>\n",
       "      <td>0</td>\n",
       "      <td>0</td>\n",
       "      <td>0</td>\n",
       "      <td>0</td>\n",
       "      <td>0</td>\n",
       "    </tr>\n",
       "    <tr>\n",
       "      <th>772</th>\n",
       "      <td>\"FOR SOME REASON U SOUND RETARDED. LOL. DAMN. ...</td>\n",
       "      <td>0</td>\n",
       "      <td>0</td>\n",
       "      <td>0</td>\n",
       "      <td>0</td>\n",
       "      <td>0</td>\n",
       "      <td>0</td>\n",
       "    </tr>\n",
       "    <tr>\n",
       "      <th>773</th>\n",
       "      <td>\"amen. you are true blue as usual.\\xa0 G-D ble...</td>\n",
       "      <td>0</td>\n",
       "      <td>0</td>\n",
       "      <td>0</td>\n",
       "      <td>0</td>\n",
       "      <td>0</td>\n",
       "      <td>0</td>\n",
       "    </tr>\n",
       "    <tr>\n",
       "      <th>774</th>\n",
       "      <td>\"Pujols is gonna bomb this one to Center. Book...</td>\n",
       "      <td>0</td>\n",
       "      <td>0</td>\n",
       "      <td>0</td>\n",
       "      <td>0</td>\n",
       "      <td>1</td>\n",
       "      <td>1</td>\n",
       "    </tr>\n",
       "    <tr>\n",
       "      <th>775</th>\n",
       "      <td>\"You are a\\xa0 really well-rounded idiot, aren...</td>\n",
       "      <td>0</td>\n",
       "      <td>0</td>\n",
       "      <td>0</td>\n",
       "      <td>0</td>\n",
       "      <td>0</td>\n",
       "      <td>1</td>\n",
       "    </tr>\n",
       "    <tr>\n",
       "      <th>776</th>\n",
       "      <td>\"@kevmille I haven't been to Sasebo. I visited...</td>\n",
       "      <td>0</td>\n",
       "      <td>0</td>\n",
       "      <td>0</td>\n",
       "      <td>0</td>\n",
       "      <td>0</td>\n",
       "      <td>0</td>\n",
       "    </tr>\n",
       "    <tr>\n",
       "      <th>777</th>\n",
       "      <td>\"I raze your pathetic Apple orchard to build m...</td>\n",
       "      <td>0</td>\n",
       "      <td>1</td>\n",
       "      <td>1</td>\n",
       "      <td>0</td>\n",
       "      <td>1</td>\n",
       "      <td>1</td>\n",
       "    </tr>\n",
       "    <tr>\n",
       "      <th>778</th>\n",
       "      <td>\"Been a while. Its because people would rather...</td>\n",
       "      <td>0</td>\n",
       "      <td>0</td>\n",
       "      <td>0</td>\n",
       "      <td>0</td>\n",
       "      <td>1</td>\n",
       "      <td>1</td>\n",
       "    </tr>\n",
       "    <tr>\n",
       "      <th>779</th>\n",
       "      <td>\"and retards like you back to the institutions.\"</td>\n",
       "      <td>0</td>\n",
       "      <td>0</td>\n",
       "      <td>0</td>\n",
       "      <td>0</td>\n",
       "      <td>0</td>\n",
       "      <td>0</td>\n",
       "    </tr>\n",
       "    <tr>\n",
       "      <th>780</th>\n",
       "      <td>\"Wow...ROFL...It's time to puke now.\\\\n\\\\nROFL...</td>\n",
       "      <td>0</td>\n",
       "      <td>0</td>\n",
       "      <td>0</td>\n",
       "      <td>0</td>\n",
       "      <td>0</td>\n",
       "      <td>0</td>\n",
       "    </tr>\n",
       "    <tr>\n",
       "      <th>781</th>\n",
       "      <td>\"Romney is a business who has solid ideas abou...</td>\n",
       "      <td>0</td>\n",
       "      <td>0</td>\n",
       "      <td>0</td>\n",
       "      <td>0</td>\n",
       "      <td>0</td>\n",
       "      <td>0</td>\n",
       "    </tr>\n",
       "    <tr>\n",
       "      <th>782</th>\n",
       "      <td>\"&lt;STRONG&gt;&lt;A&gt;YOU ARE A MEAN SPIRITED AZZHOLE.  ...</td>\n",
       "      <td>0</td>\n",
       "      <td>0</td>\n",
       "      <td>0</td>\n",
       "      <td>0</td>\n",
       "      <td>0</td>\n",
       "      <td>0</td>\n",
       "    </tr>\n",
       "    <tr>\n",
       "      <th>783</th>\n",
       "      <td>\"Have you ever given him props or at least not...</td>\n",
       "      <td>1</td>\n",
       "      <td>0</td>\n",
       "      <td>1</td>\n",
       "      <td>0</td>\n",
       "      <td>0</td>\n",
       "      <td>0</td>\n",
       "    </tr>\n",
       "    <tr>\n",
       "      <th>784</th>\n",
       "      <td>\"robert moroni you fuckin dimwit, do you know ...</td>\n",
       "      <td>1</td>\n",
       "      <td>1</td>\n",
       "      <td>1</td>\n",
       "      <td>0</td>\n",
       "      <td>1</td>\n",
       "      <td>1</td>\n",
       "    </tr>\n",
       "    <tr>\n",
       "      <th>785</th>\n",
       "      <td>\"You DO need it because you ARE a good mom!!!\"</td>\n",
       "      <td>0</td>\n",
       "      <td>0</td>\n",
       "      <td>0</td>\n",
       "      <td>0</td>\n",
       "      <td>0</td>\n",
       "      <td>0</td>\n",
       "    </tr>\n",
       "    <tr>\n",
       "      <th>786</th>\n",
       "      <td>\"I don't know if Lewis is a little boy or litt...</td>\n",
       "      <td>1</td>\n",
       "      <td>0</td>\n",
       "      <td>0</td>\n",
       "      <td>0</td>\n",
       "      <td>0</td>\n",
       "      <td>1</td>\n",
       "    </tr>\n",
       "    <tr>\n",
       "      <th>787</th>\n",
       "      <td>\"DO YOUR JOB IN HATE LOSER\"</td>\n",
       "      <td>0</td>\n",
       "      <td>0</td>\n",
       "      <td>0</td>\n",
       "      <td>0</td>\n",
       "      <td>0</td>\n",
       "      <td>0</td>\n",
       "    </tr>\n",
       "    <tr>\n",
       "      <th>788</th>\n",
       "      <td>\"Before making a stupida$$ comment....you dumb...</td>\n",
       "      <td>0</td>\n",
       "      <td>0</td>\n",
       "      <td>0</td>\n",
       "      <td>0</td>\n",
       "      <td>0</td>\n",
       "      <td>0</td>\n",
       "    </tr>\n",
       "    <tr>\n",
       "      <th>789</th>\n",
       "      <td>\"@pokecheck \\xa0\\xa0@orby glass 1 - ex pen 0\"</td>\n",
       "      <td>0</td>\n",
       "      <td>0</td>\n",
       "      <td>0</td>\n",
       "      <td>0</td>\n",
       "      <td>0</td>\n",
       "      <td>0</td>\n",
       "    </tr>\n",
       "  </tbody>\n",
       "</table>\n",
       "</div>"
      ],
      "text/plain": [
       "                                               Comment  TrueLabels  \\\n",
       "770  \"Klein, you are a coward. Did you really inter...           1   \n",
       "771  \"You certainly are as 'right wing' as they com...           0   \n",
       "772  \"FOR SOME REASON U SOUND RETARDED. LOL. DAMN. ...           0   \n",
       "773  \"amen. you are true blue as usual.\\xa0 G-D ble...           0   \n",
       "774  \"Pujols is gonna bomb this one to Center. Book...           0   \n",
       "775  \"You are a\\xa0 really well-rounded idiot, aren...           0   \n",
       "776  \"@kevmille I haven't been to Sasebo. I visited...           0   \n",
       "777  \"I raze your pathetic Apple orchard to build m...           0   \n",
       "778  \"Been a while. Its because people would rather...           0   \n",
       "779   \"and retards like you back to the institutions.\"           0   \n",
       "780  \"Wow...ROFL...It's time to puke now.\\\\n\\\\nROFL...           0   \n",
       "781  \"Romney is a business who has solid ideas abou...           0   \n",
       "782  \"<STRONG><A>YOU ARE A MEAN SPIRITED AZZHOLE.  ...           0   \n",
       "783  \"Have you ever given him props or at least not...           1   \n",
       "784  \"robert moroni you fuckin dimwit, do you know ...           1   \n",
       "785     \"You DO need it because you ARE a good mom!!!\"           0   \n",
       "786  \"I don't know if Lewis is a little boy or litt...           1   \n",
       "787                        \"DO YOUR JOB IN HATE LOSER\"           0   \n",
       "788  \"Before making a stupida$$ comment....you dumb...           0   \n",
       "789      \"@pokecheck \\xa0\\xa0@orby glass 1 - ex pen 0\"           0   \n",
       "\n",
       "     LogisticRegression  SVM  NaiveBayes  RandomForest  DecisionTree  \n",
       "770                   0    0           0             1             1  \n",
       "771                   0    0           0             0             0  \n",
       "772                   0    0           0             0             0  \n",
       "773                   0    0           0             0             0  \n",
       "774                   0    0           0             1             1  \n",
       "775                   0    0           0             0             1  \n",
       "776                   0    0           0             0             0  \n",
       "777                   1    1           0             1             1  \n",
       "778                   0    0           0             1             1  \n",
       "779                   0    0           0             0             0  \n",
       "780                   0    0           0             0             0  \n",
       "781                   0    0           0             0             0  \n",
       "782                   0    0           0             0             0  \n",
       "783                   0    1           0             0             0  \n",
       "784                   1    1           0             1             1  \n",
       "785                   0    0           0             0             0  \n",
       "786                   0    0           0             0             1  \n",
       "787                   0    0           0             0             0  \n",
       "788                   0    0           0             0             0  \n",
       "789                   0    0           0             0             0  "
      ]
     },
     "execution_count": 101,
     "metadata": {},
     "output_type": "execute_result"
    }
   ],
   "source": [
    "val_results.tail(20)"
   ]
  },
  {
   "cell_type": "markdown",
   "metadata": {},
   "source": [
    "## VI. Predicting Test Data\n",
    "In this section I will evaluate the prediction on test data."
   ]
  },
  {
   "cell_type": "code",
   "execution_count": 93,
   "metadata": {},
   "outputs": [
    {
     "data": {
      "text/plain": [
       "((2235, 14180),\n",
       " '\"\\\\nMe and God both hate-faggots.\\\\n\\\\nWhat\\'s the difference between a-fag-and a refrigerator?\\\\nRefrigerators don\\'t fart when you put the meat in.\"')"
      ]
     },
     "execution_count": 93,
     "metadata": {},
     "output_type": "execute_result"
    }
   ],
   "source": [
    "# test comments\n",
    "X_testing.shape, comments_test.iloc[5]"
   ]
  },
  {
   "cell_type": "markdown",
   "metadata": {},
   "source": [
    "### Testing Prediciton Against Each Model"
   ]
  },
  {
   "cell_type": "code",
   "execution_count": 94,
   "metadata": {
    "collapsed": true
   },
   "outputs": [],
   "source": [
    "def test_prediction(data):\n",
    "    predicted_label=[]\n",
    "    for model in all_models:\n",
    "        #model.fit(data)\n",
    "        predicted_label.append(list(model.predict(data)))\n",
    "    return predicted_label"
   ]
  },
  {
   "cell_type": "code",
   "execution_count": 95,
   "metadata": {},
   "outputs": [],
   "source": [
    "# generate predictions for test data\n",
    "prediction_result=test_prediction(X_testing)"
   ]
  },
  {
   "cell_type": "code",
   "execution_count": 96,
   "metadata": {
    "collapsed": true
   },
   "outputs": [],
   "source": [
    "test_data = {'Comment':comments_test,\n",
    "            'LogisticRegression': prediction_result[0],\n",
    "            'SVM': prediction_result[1],\n",
    "            'NaiveBayes': prediction_result[2],\n",
    "            'RandomForest': prediction_result[3],\n",
    "            'DecisionTree': prediction_result[4],\n",
    "           }\n",
    "results = pd.DataFrame(test_data, columns = ['Comment', 'LogisticRegression', 'SVM','NaiveBayes','RandomForest','DecisionTree'])"
   ]
  },
  {
   "cell_type": "markdown",
   "metadata": {
    "collapsed": true
   },
   "source": [
    "### Final Prediction Results "
   ]
  },
  {
   "cell_type": "code",
   "execution_count": 99,
   "metadata": {},
   "outputs": [
    {
     "data": {
      "text/html": [
       "<div>\n",
       "<style>\n",
       "    .dataframe thead tr:only-child th {\n",
       "        text-align: right;\n",
       "    }\n",
       "\n",
       "    .dataframe thead th {\n",
       "        text-align: left;\n",
       "    }\n",
       "\n",
       "    .dataframe tbody tr th {\n",
       "        vertical-align: top;\n",
       "    }\n",
       "</style>\n",
       "<table border=\"1\" class=\"dataframe\">\n",
       "  <thead>\n",
       "    <tr style=\"text-align: right;\">\n",
       "      <th></th>\n",
       "      <th>Comment</th>\n",
       "      <th>LogisticRegression</th>\n",
       "      <th>SVM</th>\n",
       "      <th>NaiveBayes</th>\n",
       "      <th>RandomForest</th>\n",
       "      <th>DecisionTree</th>\n",
       "    </tr>\n",
       "  </thead>\n",
       "  <tbody>\n",
       "    <tr>\n",
       "      <th>2215</th>\n",
       "      <td>\"Who gives a fuck if it's a rental or not let ...</td>\n",
       "      <td>0</td>\n",
       "      <td>0</td>\n",
       "      <td>0</td>\n",
       "      <td>0</td>\n",
       "      <td>0</td>\n",
       "    </tr>\n",
       "    <tr>\n",
       "      <th>2216</th>\n",
       "      <td>\"Yes, you are. You don't need to point it out,...</td>\n",
       "      <td>0</td>\n",
       "      <td>0</td>\n",
       "      <td>0</td>\n",
       "      <td>0</td>\n",
       "      <td>0</td>\n",
       "    </tr>\n",
       "    <tr>\n",
       "      <th>2217</th>\n",
       "      <td>\"You're an idiot AND a spammer.\\n\\nIt's like i...</td>\n",
       "      <td>0</td>\n",
       "      <td>1</td>\n",
       "      <td>0</td>\n",
       "      <td>0</td>\n",
       "      <td>0</td>\n",
       "    </tr>\n",
       "    <tr>\n",
       "      <th>2218</th>\n",
       "      <td>\"You know what got thousands k illed it was Sa...</td>\n",
       "      <td>0</td>\n",
       "      <td>0</td>\n",
       "      <td>0</td>\n",
       "      <td>0</td>\n",
       "      <td>1</td>\n",
       "    </tr>\n",
       "    <tr>\n",
       "      <th>2219</th>\n",
       "      <td>\"I am a MM Fan but he was rather unfair to mos...</td>\n",
       "      <td>0</td>\n",
       "      <td>0</td>\n",
       "      <td>0</td>\n",
       "      <td>0</td>\n",
       "      <td>0</td>\n",
       "    </tr>\n",
       "    <tr>\n",
       "      <th>2220</th>\n",
       "      <td>\"When you are ready for this.  Let me know.  I...</td>\n",
       "      <td>0</td>\n",
       "      <td>0</td>\n",
       "      <td>0</td>\n",
       "      <td>0</td>\n",
       "      <td>0</td>\n",
       "    </tr>\n",
       "    <tr>\n",
       "      <th>2221</th>\n",
       "      <td>\"MENSAJE A PERIODICUCHOS INGLESES Y GRINGOS: F...</td>\n",
       "      <td>0</td>\n",
       "      <td>0</td>\n",
       "      <td>0</td>\n",
       "      <td>0</td>\n",
       "      <td>0</td>\n",
       "    </tr>\n",
       "    <tr>\n",
       "      <th>2222</th>\n",
       "      <td>\"_FUCK_YOU_NIGGER_LOVING_FAGGOT_GO_SWING_IN_TH...</td>\n",
       "      <td>1</td>\n",
       "      <td>1</td>\n",
       "      <td>0</td>\n",
       "      <td>1</td>\n",
       "      <td>1</td>\n",
       "    </tr>\n",
       "    <tr>\n",
       "      <th>2223</th>\n",
       "      <td>\"you are boring\\n\"</td>\n",
       "      <td>0</td>\n",
       "      <td>0</td>\n",
       "      <td>0</td>\n",
       "      <td>0</td>\n",
       "      <td>0</td>\n",
       "    </tr>\n",
       "    <tr>\n",
       "      <th>2224</th>\n",
       "      <td>\"By your comment.\"</td>\n",
       "      <td>0</td>\n",
       "      <td>0</td>\n",
       "      <td>0</td>\n",
       "      <td>0</td>\n",
       "      <td>0</td>\n",
       "    </tr>\n",
       "    <tr>\n",
       "      <th>2225</th>\n",
       "      <td>\"Fuck yOu Not working mother fucker!! Eat My D...</td>\n",
       "      <td>1</td>\n",
       "      <td>1</td>\n",
       "      <td>0</td>\n",
       "      <td>1</td>\n",
       "      <td>1</td>\n",
       "    </tr>\n",
       "    <tr>\n",
       "      <th>2226</th>\n",
       "      <td>\"Nkk68\\n\\nHAHAHAHAHAHAHAHAHA is that all you g...</td>\n",
       "      <td>0</td>\n",
       "      <td>0</td>\n",
       "      <td>0</td>\n",
       "      <td>0</td>\n",
       "      <td>0</td>\n",
       "    </tr>\n",
       "    <tr>\n",
       "      <th>2227</th>\n",
       "      <td>\"What a smug basket you are.\\xa0 \"</td>\n",
       "      <td>1</td>\n",
       "      <td>1</td>\n",
       "      <td>0</td>\n",
       "      <td>1</td>\n",
       "      <td>1</td>\n",
       "    </tr>\n",
       "    <tr>\n",
       "      <th>2228</th>\n",
       "      <td>\"Hey, Nils, you are silent about Muslims killi...</td>\n",
       "      <td>0</td>\n",
       "      <td>0</td>\n",
       "      <td>0</td>\n",
       "      <td>0</td>\n",
       "      <td>0</td>\n",
       "    </tr>\n",
       "    <tr>\n",
       "      <th>2229</th>\n",
       "      <td>\"\\xa0You must have crack in your bong, as it a...</td>\n",
       "      <td>0</td>\n",
       "      <td>0</td>\n",
       "      <td>0</td>\n",
       "      <td>0</td>\n",
       "      <td>0</td>\n",
       "    </tr>\n",
       "    <tr>\n",
       "      <th>2230</th>\n",
       "      <td>\"FUCKIN LAME COME ON WTF STOP FUCKING OVER MY ...</td>\n",
       "      <td>1</td>\n",
       "      <td>1</td>\n",
       "      <td>0</td>\n",
       "      <td>0</td>\n",
       "      <td>1</td>\n",
       "    </tr>\n",
       "    <tr>\n",
       "      <th>2231</th>\n",
       "      <td>\"YOU SHUT YOUR IGNORANT PIE HOLE YOU LITTLE IN...</td>\n",
       "      <td>1</td>\n",
       "      <td>1</td>\n",
       "      <td>1</td>\n",
       "      <td>1</td>\n",
       "      <td>1</td>\n",
       "    </tr>\n",
       "    <tr>\n",
       "      <th>2232</th>\n",
       "      <td>\"sweetie pie is looking very much like her cou...</td>\n",
       "      <td>0</td>\n",
       "      <td>0</td>\n",
       "      <td>0</td>\n",
       "      <td>0</td>\n",
       "      <td>0</td>\n",
       "    </tr>\n",
       "    <tr>\n",
       "      <th>2233</th>\n",
       "      <td>\"ball4real where are you with your miami g-ayn...</td>\n",
       "      <td>0</td>\n",
       "      <td>0</td>\n",
       "      <td>0</td>\n",
       "      <td>0</td>\n",
       "      <td>0</td>\n",
       "    </tr>\n",
       "    <tr>\n",
       "      <th>2234</th>\n",
       "      <td>\"Man....if you are a 3 point shooter, you must...</td>\n",
       "      <td>0</td>\n",
       "      <td>0</td>\n",
       "      <td>0</td>\n",
       "      <td>0</td>\n",
       "      <td>0</td>\n",
       "    </tr>\n",
       "  </tbody>\n",
       "</table>\n",
       "</div>"
      ],
      "text/plain": [
       "                                                Comment  LogisticRegression  \\\n",
       "2215  \"Who gives a fuck if it's a rental or not let ...                   0   \n",
       "2216  \"Yes, you are. You don't need to point it out,...                   0   \n",
       "2217  \"You're an idiot AND a spammer.\\n\\nIt's like i...                   0   \n",
       "2218  \"You know what got thousands k illed it was Sa...                   0   \n",
       "2219  \"I am a MM Fan but he was rather unfair to mos...                   0   \n",
       "2220  \"When you are ready for this.  Let me know.  I...                   0   \n",
       "2221  \"MENSAJE A PERIODICUCHOS INGLESES Y GRINGOS: F...                   0   \n",
       "2222  \"_FUCK_YOU_NIGGER_LOVING_FAGGOT_GO_SWING_IN_TH...                   1   \n",
       "2223                                 \"you are boring\\n\"                   0   \n",
       "2224                                 \"By your comment.\"                   0   \n",
       "2225  \"Fuck yOu Not working mother fucker!! Eat My D...                   1   \n",
       "2226  \"Nkk68\\n\\nHAHAHAHAHAHAHAHAHA is that all you g...                   0   \n",
       "2227                 \"What a smug basket you are.\\xa0 \"                   1   \n",
       "2228  \"Hey, Nils, you are silent about Muslims killi...                   0   \n",
       "2229  \"\\xa0You must have crack in your bong, as it a...                   0   \n",
       "2230  \"FUCKIN LAME COME ON WTF STOP FUCKING OVER MY ...                   1   \n",
       "2231  \"YOU SHUT YOUR IGNORANT PIE HOLE YOU LITTLE IN...                   1   \n",
       "2232  \"sweetie pie is looking very much like her cou...                   0   \n",
       "2233  \"ball4real where are you with your miami g-ayn...                   0   \n",
       "2234  \"Man....if you are a 3 point shooter, you must...                   0   \n",
       "\n",
       "      SVM  NaiveBayes  RandomForest  DecisionTree  \n",
       "2215    0           0             0             0  \n",
       "2216    0           0             0             0  \n",
       "2217    1           0             0             0  \n",
       "2218    0           0             0             1  \n",
       "2219    0           0             0             0  \n",
       "2220    0           0             0             0  \n",
       "2221    0           0             0             0  \n",
       "2222    1           0             1             1  \n",
       "2223    0           0             0             0  \n",
       "2224    0           0             0             0  \n",
       "2225    1           0             1             1  \n",
       "2226    0           0             0             0  \n",
       "2227    1           0             1             1  \n",
       "2228    0           0             0             0  \n",
       "2229    0           0             0             0  \n",
       "2230    1           0             0             1  \n",
       "2231    1           1             1             1  \n",
       "2232    0           0             0             0  \n",
       "2233    0           0             0             0  \n",
       "2234    0           0             0             0  "
      ]
     },
     "execution_count": 99,
     "metadata": {},
     "output_type": "execute_result"
    }
   ],
   "source": [
    "results.tail(20)"
   ]
  },
  {
   "cell_type": "markdown",
   "metadata": {},
   "source": [
    "### Conclusion\n",
    "In the end I conclude that **Random Forest** is the best classification model. This conclusion is based on following results - \n",
    "1. High Classification Accuracy - **83.5%**\n",
    "2. High AUC Score - **85.2%**\n",
    "3. Balance Precision / Recall values : **84%-84%**\n",
    "\n",
    "Note: These results are specific to this project."
   ]
  },
  {
   "cell_type": "code",
   "execution_count": null,
   "metadata": {
    "collapsed": true
   },
   "outputs": [],
   "source": []
  }
 ],
 "metadata": {
  "kernelspec": {
   "display_name": "Python 3",
   "language": "python",
   "name": "python3"
  },
  "language_info": {
   "codemirror_mode": {
    "name": "ipython",
    "version": 3
   },
   "file_extension": ".py",
   "mimetype": "text/x-python",
   "name": "python",
   "nbconvert_exporter": "python",
   "pygments_lexer": "ipython3",
   "version": "3.6.1"
  }
 },
 "nbformat": 4,
 "nbformat_minor": 2
}
